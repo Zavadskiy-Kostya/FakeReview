{
 "cells": [
  {
   "cell_type": "code",
   "execution_count": 1,
   "id": "58e5da2a",
   "metadata": {},
   "outputs": [],
   "source": [
    "import numpy as np\n",
    "import pandas as pd\n",
    "import matplotlib.pyplot as plt\n",
    "\n",
    "# загрузка датасета, удаление дубликатов и удаление id.\n",
    "df = pd.read_csv('./wb_school_task_2.csv.gzip', compression='gzip')\n",
    "df = df.drop(['id1', 'id2', 'id3'], axis = 1)\n",
    "\n",
    "# Если длина отзыва > 135, то он большой.\n",
    "BIG_REVIEW = 60\n",
    "\n",
    "# Оставим валидацию\n",
    "from sklearn.model_selection import train_test_split\n",
    "len_test      = 0.2\n",
    "X_train, X_test, y_train, y_test = train_test_split(df.drop('label', axis = 1), df['label'], test_size=len_test, random_state=42, shuffle=True)\n",
    "df = pd.concat([X_train, y_train], axis = 1)\n",
    "test = pd.concat([X_test, y_test], axis = 1)"
   ]
  },
  {
   "cell_type": "markdown",
   "id": "762f3e16",
   "metadata": {},
   "source": [
    "# Вступление\n",
    "\n",
    "Самые популярные исследования изучают фэйковые отзывы на отели, рестораны, докторов (причём фейковые отзывы каждого продукта изучаются отдельно). И даже результаты редких исследований основанных на данных Amazon или Dianping нам могут не подойти, ибо фильтрация Wildberries может отличаться от фильтрации Amazon и Dianping. К тому же Россия отличается от США и Китая, поэтому мы будем проводить собственное исследование. Из научных статей мы будем брать все возможные идеи."
   ]
  },
  {
   "cell_type": "markdown",
   "id": "8cb24eea",
   "metadata": {},
   "source": [
    "# Выбор классов моделей"
   ]
  },
  {
   "cell_type": "markdown",
   "id": "5c4d88e0",
   "metadata": {},
   "source": [
    "Заметим, что предоставленный набор данных имеет маленький размер (3123 строчки), поэтому мы не можем использовать нейронные сети в качестве основного решения нашей ML задачи. В качестве основного решения мы будем использовать традиционные модели машинного обучения с учителем: SVM, NB, linear, random forest, gradientboosting. \n",
    "\n"
   ]
  },
  {
   "cell_type": "markdown",
   "id": "6bf52226",
   "metadata": {},
   "source": [
    "# Новые признаки отзыва\n",
    "Нам были предоставленны следующие признаки отзыва:\n",
    "- id1 -- 'id покупателя',\n",
    "- id2 --'id товара',\n",
    "- id3 -- 'id продавца',\n",
    "- text-- 'text',\n",
    "- f1 -- 'количество всех отзывов покупателя', \n",
    "- f2 -- 'количество уникальных поставщиков, которым писал отзывы покупатель',\n",
    "- f3 -- 'средняя оценка покупателя', \n",
    "- f4 --'количество всех отзывов на товар', \n",
    "- f5 -- 'f5', \n",
    "- f6 -- 'средняя оценка товара', \n",
    "- f7 --'количество купленных товаров', \n",
    "- f8 --'количество заказанных товаров', \n",
    "- 'label'\n",
    "\n",
    "### Behavioural feature (23 штуки)\n",
    "1) Высокий процент положительных отзывов, написанных спамером о товарах может указывать на поддельные отзывы [1]. На эту фичу похожа f3.  \n",
    "2) 75% спамеров создали более пяти отзывов в некоторые определенные дни [2]-[4]. Однако также было замечено, что 90% обычных пользователей никогда не писали более одного отзыва в течение одного дня.\n"
   ]
  },
  {
   "cell_type": "code",
   "execution_count": null,
   "id": "7b9061c5",
   "metadata": {},
   "outputs": [],
   "source": [
    "max_review = df['f1'].max()\n",
    "df['beh2'] = np.vectorize(lambda x: x/max_review)(df['f1'])"
   ]
  },
  {
   "cell_type": "markdown",
   "id": "c3d45906",
   "metadata": {},
   "source": [
    "3) Cпамеры не пишут подробных отзывов об услуге или продукте, что может помочь обнаружить спамеров [2]-[4]. Поскольку спамеры пытаются создать много фальшивых отзывов, поэтому они обычно тратят мало времени на написание своих отзывов. Однако 90% надежных рецензентов пишут более длинные отзывы со средней длиной более 200 слов."
   ]
  },
  {
   "cell_type": "code",
   "execution_count": null,
   "id": "e65b1218",
   "metadata": {},
   "outputs": [],
   "source": [
    "df['len_text'] = np.vectorize(len)(df['text']) # количество символов в тексте\n",
    "df['beh3'] = np.vectorize(lambda x: 1 if len(x)>BIG_REVIEW else 0)(df['text'])\n",
    "print ('Big Review -- %.3f' % (len(df[df['beh3'] == 1])/len(df)), '%')\n",
    "print ('Smoll Review -- %.3f' % (len(df[df['beh3'] == 0])/len(df)), '%')"
   ]
  },
  {
   "cell_type": "markdown",
   "id": "196d1e5e",
   "metadata": {},
   "source": [
    "#### Если в данные добавить время написания отзыва и оценку отзыва, то можно добавить такие фичи:\n",
    "1) Количество отзывов в сутки.\n",
    "2) Отклонение оценки отзыва от средней оценки.\n",
    "3) Чем раньше вышел отзыв, тем меньше вес имеет его оценка.\n",
    "4) Процентное количество 1 звезд и 5 звёзд.\n",
    "5) Доля первых отзывов на товары."
   ]
  },
  {
   "cell_type": "markdown",
   "id": "3cf988cd",
   "metadata": {},
   "source": [
    "### Text feature (20 штук)\n",
    "Текстовые фичи [8]:\n",
    "- средняя длина слова\n",
    "- количество символов верхнего регистра \n",
    "\n",
    "Морфологический разбор ухудшает точность модели."
   ]
  },
  {
   "cell_type": "code",
   "execution_count": null,
   "id": "be40c8b7",
   "metadata": {},
   "outputs": [],
   "source": [
    "# определяет количество символов в верхнем регистре x\n",
    "def upper(x):\n",
    "    count_upper = 0\n",
    "    for symbol in x:\n",
    "        if symbol.isupper():\n",
    "            count_upper += 1\n",
    "    return count_upper\n",
    "\n",
    "# средняя длина слова в x\n",
    "def average_word(x): \n",
    "    sum_symbol = 0\n",
    "    for word in x.split():\n",
    "        sum_symbol += len(word)\n",
    "    return sum_symbol/(len(x.split()))"
   ]
  },
  {
   "cell_type": "code",
   "execution_count": null,
   "id": "265cf485",
   "metadata": {},
   "outputs": [],
   "source": [
    "# количество символов в верхнем регистре\n",
    "df['t19'] = df['text'].apply(upper)\n",
    "# средннее количество символов в слове\n",
    "df['t20'] = df['text'].apply(average_word)\n",
    "# df = df.drop('text', axis = 1)"
   ]
  },
  {
   "cell_type": "markdown",
   "id": "c3591a82",
   "metadata": {},
   "source": [
    "### Интересное замечание\n",
    "В работе [1] было замечено, что Behavioural feature лучше, чем text фичи. text фичи бесполезны по отдельности, но могут быть полезны в группе."
   ]
  },
  {
   "cell_type": "markdown",
   "id": "5e366430",
   "metadata": {},
   "source": [
    "# pre-trained GloVe embedding methods\n",
    "Заметим, что наш датасет имеет малые размеры, поэтому мы не можем использовать нейронные сети для анализа текстов, поэтому алгоритмы по типу C-LSTM, HAN, convolutional HAN, и char-level C-LSTM нам не подойдут. Остаются только трансформеры\n",
    "- BIDIRECTIONAL ENCODER REPRESENTATIONS FROM TRANSFORMERS (BERT) [5]\n",
    "- DistilBERT [6]\n",
    "- ROBUSTLY OPTIMIZED BERT APPROACH (RoBERTa) [7]\n",
    "\n",
    "Из трансформеров интересно изучить DistilBERT (облегчённый BERT) и RoBerta (усиленный BERT). Однако эти трансформеры обучены на английском тексте, поэтому придётся искать их адаптацию на русский язык. В качестве DistilBERT возьмём rubert-tiny2, а в качаестве RoBerta возьмём universal-sentence-encoder-multilingual-large."
   ]
  },
  {
   "cell_type": "markdown",
   "id": "3b8bfa0a",
   "metadata": {},
   "source": [
    "Мы видим, что выход universal-sentence-encoder-multilingual-large 512 символов, а rubert-tiny2 -- 312 символов. Для дообучения трансформера нужно настроить как минимум 312 параметров. Ограниченный датасет не позволяет нам использовать трансформер."
   ]
  },
  {
   "cell_type": "code",
   "execution_count": 2,
   "id": "985e106d",
   "metadata": {},
   "outputs": [
    {
     "name": "stderr",
     "output_type": "stream",
     "text": [
      "Some weights of the model checkpoint at cointegrated/rubert-tiny2 were not used when initializing BertModel: ['cls.predictions.bias', 'cls.seq_relationship.weight', 'cls.predictions.transform.dense.bias', 'cls.predictions.decoder.bias', 'cls.predictions.transform.LayerNorm.weight', 'cls.seq_relationship.bias', 'cls.predictions.transform.dense.weight', 'cls.predictions.transform.LayerNorm.bias', 'cls.predictions.decoder.weight']\n",
      "- This IS expected if you are initializing BertModel from the checkpoint of a model trained on another task or with another architecture (e.g. initializing a BertForSequenceClassification model from a BertForPreTraining model).\n",
      "- This IS NOT expected if you are initializing BertModel from the checkpoint of a model that you expect to be exactly identical (initializing a BertForSequenceClassification model from a BertForSequenceClassification model).\n"
     ]
    }
   ],
   "source": [
    "import torch\n",
    "from transformers import AutoTokenizer, AutoModel\n",
    "tokenizer = AutoTokenizer.from_pretrained(\"cointegrated/rubert-tiny2\")\n",
    "model = AutoModel.from_pretrained(\"cointegrated/rubert-tiny2\")\n",
    "# model.cuda()  # uncomment it if you have a GPU\n",
    "\n",
    "def embed_bert_cls(text, model, tokenizer):\n",
    "    t = tokenizer(text, padding=True, truncation=True, return_tensors='pt')\n",
    "    with torch.no_grad():\n",
    "        model_output = model(**{k: v.to(model.device) for k, v in t.items()})\n",
    "    embeddings = model_output.last_hidden_state[:, 0, :]\n",
    "    embeddings = torch.nn.functional.normalize(embeddings)\n",
    "    return embeddings[0].cpu().numpy()\n",
    "\n",
    "\n",
    "def bert_embeding(x):\n",
    "    return embed_bert_cls(x, model, tokenizer).reshape(1,312)\n",
    "\n"
   ]
  },
  {
   "cell_type": "code",
   "execution_count": 3,
   "id": "53de85c8",
   "metadata": {},
   "outputs": [],
   "source": [
    "df = pd.concat([df,pd.DataFrame(np.concatenate(df['text'].apply(bert_embeding).values), columns = ['emb'+str(i) for i in range(312)], index = df.index)], axis = 1)\n",
    "df = df.drop(['text'], axis = 1)\n",
    "df = df.drop_duplicates()\n",
    "train = df\n",
    "\n",
    "df = X_test\n",
    "df['label'] = y_test\n",
    "df = pd.concat([df,pd.DataFrame(np.concatenate(df['text'].apply(bert_embeding).values), columns = ['emb'+str(i) for i in range(312)], index = df.index)], axis = 1)\n",
    "df = df.drop(['text'], axis = 1)\n",
    "X_test = df.drop('label', axis = 1)\n",
    "y_test = df['label']\n",
    "df = train\n"
   ]
  },
  {
   "cell_type": "code",
   "execution_count": 4,
   "id": "713241ff",
   "metadata": {},
   "outputs": [
    {
     "name": "stdout",
     "output_type": "stream",
     "text": [
      "0 features with a correlation magnitude greater than 0.98.\n",
      "\n",
      "Training Gradient Boosting Model\n",
      "\n"
     ]
    },
    {
     "name": "stderr",
     "output_type": "stream",
     "text": [
      "C:\\ProgramData\\anaconda3\\envs\\FakeReviewTorch\\lib\\site-packages\\lightgbm\\sklearn.py:726: UserWarning: 'early_stopping_rounds' argument is deprecated and will be removed in a future release of LightGBM. Pass 'early_stopping()' callback via 'callbacks' argument instead.\n",
      "  _log_warning(\"'early_stopping_rounds' argument is deprecated and will be removed in a future release of LightGBM. \"\n",
      "C:\\ProgramData\\anaconda3\\envs\\FakeReviewTorch\\lib\\site-packages\\lightgbm\\sklearn.py:736: UserWarning: 'verbose' argument is deprecated and will be removed in a future release of LightGBM. Pass 'log_evaluation()' callback via 'callbacks' argument instead.\n",
      "  _log_warning(\"'verbose' argument is deprecated and will be removed in a future release of LightGBM. \"\n",
      "C:\\ProgramData\\anaconda3\\envs\\FakeReviewTorch\\lib\\site-packages\\lightgbm\\sklearn.py:726: UserWarning: 'early_stopping_rounds' argument is deprecated and will be removed in a future release of LightGBM. Pass 'early_stopping()' callback via 'callbacks' argument instead.\n",
      "  _log_warning(\"'early_stopping_rounds' argument is deprecated and will be removed in a future release of LightGBM. \"\n",
      "C:\\ProgramData\\anaconda3\\envs\\FakeReviewTorch\\lib\\site-packages\\lightgbm\\sklearn.py:736: UserWarning: 'verbose' argument is deprecated and will be removed in a future release of LightGBM. Pass 'log_evaluation()' callback via 'callbacks' argument instead.\n",
      "  _log_warning(\"'verbose' argument is deprecated and will be removed in a future release of LightGBM. \"\n",
      "C:\\ProgramData\\anaconda3\\envs\\FakeReviewTorch\\lib\\site-packages\\lightgbm\\sklearn.py:726: UserWarning: 'early_stopping_rounds' argument is deprecated and will be removed in a future release of LightGBM. Pass 'early_stopping()' callback via 'callbacks' argument instead.\n",
      "  _log_warning(\"'early_stopping_rounds' argument is deprecated and will be removed in a future release of LightGBM. \"\n",
      "C:\\ProgramData\\anaconda3\\envs\\FakeReviewTorch\\lib\\site-packages\\lightgbm\\sklearn.py:736: UserWarning: 'verbose' argument is deprecated and will be removed in a future release of LightGBM. Pass 'log_evaluation()' callback via 'callbacks' argument instead.\n",
      "  _log_warning(\"'verbose' argument is deprecated and will be removed in a future release of LightGBM. \"\n",
      "C:\\ProgramData\\anaconda3\\envs\\FakeReviewTorch\\lib\\site-packages\\lightgbm\\sklearn.py:726: UserWarning: 'early_stopping_rounds' argument is deprecated and will be removed in a future release of LightGBM. Pass 'early_stopping()' callback via 'callbacks' argument instead.\n",
      "  _log_warning(\"'early_stopping_rounds' argument is deprecated and will be removed in a future release of LightGBM. \"\n",
      "C:\\ProgramData\\anaconda3\\envs\\FakeReviewTorch\\lib\\site-packages\\lightgbm\\sklearn.py:736: UserWarning: 'verbose' argument is deprecated and will be removed in a future release of LightGBM. Pass 'log_evaluation()' callback via 'callbacks' argument instead.\n",
      "  _log_warning(\"'verbose' argument is deprecated and will be removed in a future release of LightGBM. \"\n",
      "C:\\ProgramData\\anaconda3\\envs\\FakeReviewTorch\\lib\\site-packages\\lightgbm\\sklearn.py:726: UserWarning: 'early_stopping_rounds' argument is deprecated and will be removed in a future release of LightGBM. Pass 'early_stopping()' callback via 'callbacks' argument instead.\n",
      "  _log_warning(\"'early_stopping_rounds' argument is deprecated and will be removed in a future release of LightGBM. \"\n",
      "C:\\ProgramData\\anaconda3\\envs\\FakeReviewTorch\\lib\\site-packages\\lightgbm\\sklearn.py:736: UserWarning: 'verbose' argument is deprecated and will be removed in a future release of LightGBM. Pass 'log_evaluation()' callback via 'callbacks' argument instead.\n",
      "  _log_warning(\"'verbose' argument is deprecated and will be removed in a future release of LightGBM. \"\n",
      "C:\\ProgramData\\anaconda3\\envs\\FakeReviewTorch\\lib\\site-packages\\lightgbm\\sklearn.py:726: UserWarning: 'early_stopping_rounds' argument is deprecated and will be removed in a future release of LightGBM. Pass 'early_stopping()' callback via 'callbacks' argument instead.\n",
      "  _log_warning(\"'early_stopping_rounds' argument is deprecated and will be removed in a future release of LightGBM. \"\n",
      "C:\\ProgramData\\anaconda3\\envs\\FakeReviewTorch\\lib\\site-packages\\lightgbm\\sklearn.py:736: UserWarning: 'verbose' argument is deprecated and will be removed in a future release of LightGBM. Pass 'log_evaluation()' callback via 'callbacks' argument instead.\n",
      "  _log_warning(\"'verbose' argument is deprecated and will be removed in a future release of LightGBM. \"\n",
      "C:\\ProgramData\\anaconda3\\envs\\FakeReviewTorch\\lib\\site-packages\\lightgbm\\sklearn.py:726: UserWarning: 'early_stopping_rounds' argument is deprecated and will be removed in a future release of LightGBM. Pass 'early_stopping()' callback via 'callbacks' argument instead.\n",
      "  _log_warning(\"'early_stopping_rounds' argument is deprecated and will be removed in a future release of LightGBM. \"\n",
      "C:\\ProgramData\\anaconda3\\envs\\FakeReviewTorch\\lib\\site-packages\\lightgbm\\sklearn.py:736: UserWarning: 'verbose' argument is deprecated and will be removed in a future release of LightGBM. Pass 'log_evaluation()' callback via 'callbacks' argument instead.\n",
      "  _log_warning(\"'verbose' argument is deprecated and will be removed in a future release of LightGBM. \"\n",
      "C:\\ProgramData\\anaconda3\\envs\\FakeReviewTorch\\lib\\site-packages\\lightgbm\\sklearn.py:726: UserWarning: 'early_stopping_rounds' argument is deprecated and will be removed in a future release of LightGBM. Pass 'early_stopping()' callback via 'callbacks' argument instead.\n",
      "  _log_warning(\"'early_stopping_rounds' argument is deprecated and will be removed in a future release of LightGBM. \"\n",
      "C:\\ProgramData\\anaconda3\\envs\\FakeReviewTorch\\lib\\site-packages\\lightgbm\\sklearn.py:736: UserWarning: 'verbose' argument is deprecated and will be removed in a future release of LightGBM. Pass 'log_evaluation()' callback via 'callbacks' argument instead.\n",
      "  _log_warning(\"'verbose' argument is deprecated and will be removed in a future release of LightGBM. \"\n",
      "C:\\ProgramData\\anaconda3\\envs\\FakeReviewTorch\\lib\\site-packages\\lightgbm\\sklearn.py:726: UserWarning: 'early_stopping_rounds' argument is deprecated and will be removed in a future release of LightGBM. Pass 'early_stopping()' callback via 'callbacks' argument instead.\n",
      "  _log_warning(\"'early_stopping_rounds' argument is deprecated and will be removed in a future release of LightGBM. \"\n",
      "C:\\ProgramData\\anaconda3\\envs\\FakeReviewTorch\\lib\\site-packages\\lightgbm\\sklearn.py:736: UserWarning: 'verbose' argument is deprecated and will be removed in a future release of LightGBM. Pass 'log_evaluation()' callback via 'callbacks' argument instead.\n",
      "  _log_warning(\"'verbose' argument is deprecated and will be removed in a future release of LightGBM. \"\n",
      "C:\\ProgramData\\anaconda3\\envs\\FakeReviewTorch\\lib\\site-packages\\lightgbm\\sklearn.py:726: UserWarning: 'early_stopping_rounds' argument is deprecated and will be removed in a future release of LightGBM. Pass 'early_stopping()' callback via 'callbacks' argument instead.\n",
      "  _log_warning(\"'early_stopping_rounds' argument is deprecated and will be removed in a future release of LightGBM. \"\n",
      "C:\\ProgramData\\anaconda3\\envs\\FakeReviewTorch\\lib\\site-packages\\lightgbm\\sklearn.py:736: UserWarning: 'verbose' argument is deprecated and will be removed in a future release of LightGBM. Pass 'log_evaluation()' callback via 'callbacks' argument instead.\n",
      "  _log_warning(\"'verbose' argument is deprecated and will be removed in a future release of LightGBM. \"\n"
     ]
    },
    {
     "name": "stdout",
     "output_type": "stream",
     "text": [
      "\n",
      "0 features with zero or negative importance after one-hot encoding.\n",
      "\n"
     ]
    },
    {
     "data": {
      "image/png": "[encoded data removed]",
      "text/plain": [
       "<Figure size 1000x600 with 1 Axes>"
      ]
     },
     "metadata": {},
     "output_type": "display_data"
    },
    {
     "data": {
      "image/png": "[encoded data removed]",
      "text/plain": [
       "<Figure size 600x400 with 1 Axes>"
      ]
     },
     "metadata": {},
     "output_type": "display_data"
    },
    {
     "name": "stdout",
     "output_type": "stream",
     "text": [
      "312 features required for 0.99 of cumulative importance\n"
     ]
    }
   ],
   "source": [
    "from feature_selector import FeatureSelector\n",
    "\n",
    "# Признаки - в train, метки - в train_labels\n",
    "fs = FeatureSelector(data = df.drop('label', axis = 1), labels = df['label'])\n",
    "\n",
    "# Удаляем признаки с корреляцией 0.98\n",
    "fs.identify_collinear(correlation_threshold = 0.98)\n",
    "\n",
    "# Удаляем признаки с нулевой важностью\n",
    "fs.identify_zero_importance(task = 'classification', \n",
    "                            eval_metric = 'roc_auc', \n",
    "                            n_iterations = 10, \n",
    "                             early_stopping = True)\n",
    "\n",
    "zero_importance_features = fs.ops['zero_importance']\n",
    "%matplotlib inline\n",
    "fs.plot_feature_importances(threshold = 0.99, plot_n = 20)\n",
    "label = df['label']\n",
    "# df = fs.remove(methods = 'all')\n",
    "# df['label'] = label"
   ]
  },
  {
   "cell_type": "markdown",
   "id": "75a21c46",
   "metadata": {},
   "source": [
    "Эксперементально было установлено, что лучшие фичи -- ['f5', 'f3', 'f7', 'f4', 'f1', 'emb57', 'f6', 'emb205', 'emb266', 'f2', 'f8', 'beh2'] "
   ]
  },
  {
   "cell_type": "markdown",
   "id": "a51aaf95",
   "metadata": {},
   "source": [
    "# Массовая генерация (+, *)"
   ]
  },
  {
   "cell_type": "code",
   "execution_count": 5,
   "id": "97625ebb",
   "metadata": {},
   "outputs": [
    {
     "name": "stderr",
     "output_type": "stream",
     "text": [
      "C:\\Temp\\ipykernel_14184\\3796706222.py:6: SettingWithCopyWarning: \n",
      "A value is trying to be set on a copy of a slice from a DataFrame.\n",
      "Try using .loc[row_indexer,col_indexer] = value instead\n",
      "\n",
      "See the caveats in the documentation: https://pandas.pydata.org/pandas-docs/stable/user_guide/indexing.html#returning-a-view-versus-a-copy\n",
      "  df[columns[_]+'+'+columns[__]] = df[columns[_]] + df[columns[__]]\n",
      "C:\\Temp\\ipykernel_14184\\3796706222.py:6: SettingWithCopyWarning: \n",
      "A value is trying to be set on a copy of a slice from a DataFrame.\n",
      "Try using .loc[row_indexer,col_indexer] = value instead\n",
      "\n",
      "See the caveats in the documentation: https://pandas.pydata.org/pandas-docs/stable/user_guide/indexing.html#returning-a-view-versus-a-copy\n",
      "  df[columns[_]+'+'+columns[__]] = df[columns[_]] + df[columns[__]]\n",
      "C:\\Temp\\ipykernel_14184\\3796706222.py:6: SettingWithCopyWarning: \n",
      "A value is trying to be set on a copy of a slice from a DataFrame.\n",
      "Try using .loc[row_indexer,col_indexer] = value instead\n",
      "\n",
      "See the caveats in the documentation: https://pandas.pydata.org/pandas-docs/stable/user_guide/indexing.html#returning-a-view-versus-a-copy\n",
      "  df[columns[_]+'+'+columns[__]] = df[columns[_]] + df[columns[__]]\n",
      "C:\\Temp\\ipykernel_14184\\3796706222.py:6: SettingWithCopyWarning: \n",
      "A value is trying to be set on a copy of a slice from a DataFrame.\n",
      "Try using .loc[row_indexer,col_indexer] = value instead\n",
      "\n",
      "See the caveats in the documentation: https://pandas.pydata.org/pandas-docs/stable/user_guide/indexing.html#returning-a-view-versus-a-copy\n",
      "  df[columns[_]+'+'+columns[__]] = df[columns[_]] + df[columns[__]]\n",
      "C:\\Temp\\ipykernel_14184\\3796706222.py:6: SettingWithCopyWarning: \n",
      "A value is trying to be set on a copy of a slice from a DataFrame.\n",
      "Try using .loc[row_indexer,col_indexer] = value instead\n",
      "\n",
      "See the caveats in the documentation: https://pandas.pydata.org/pandas-docs/stable/user_guide/indexing.html#returning-a-view-versus-a-copy\n",
      "  df[columns[_]+'+'+columns[__]] = df[columns[_]] + df[columns[__]]\n",
      "C:\\Temp\\ipykernel_14184\\3796706222.py:6: SettingWithCopyWarning: \n",
      "A value is trying to be set on a copy of a slice from a DataFrame.\n",
      "Try using .loc[row_indexer,col_indexer] = value instead\n",
      "\n",
      "See the caveats in the documentation: https://pandas.pydata.org/pandas-docs/stable/user_guide/indexing.html#returning-a-view-versus-a-copy\n",
      "  df[columns[_]+'+'+columns[__]] = df[columns[_]] + df[columns[__]]\n",
      "C:\\Temp\\ipykernel_14184\\3796706222.py:6: SettingWithCopyWarning: \n",
      "A value is trying to be set on a copy of a slice from a DataFrame.\n",
      "Try using .loc[row_indexer,col_indexer] = value instead\n",
      "\n",
      "See the caveats in the documentation: https://pandas.pydata.org/pandas-docs/stable/user_guide/indexing.html#returning-a-view-versus-a-copy\n",
      "  df[columns[_]+'+'+columns[__]] = df[columns[_]] + df[columns[__]]\n",
      "C:\\Temp\\ipykernel_14184\\3796706222.py:6: SettingWithCopyWarning: \n",
      "A value is trying to be set on a copy of a slice from a DataFrame.\n",
      "Try using .loc[row_indexer,col_indexer] = value instead\n",
      "\n",
      "See the caveats in the documentation: https://pandas.pydata.org/pandas-docs/stable/user_guide/indexing.html#returning-a-view-versus-a-copy\n",
      "  df[columns[_]+'+'+columns[__]] = df[columns[_]] + df[columns[__]]\n",
      "C:\\Temp\\ipykernel_14184\\3796706222.py:6: SettingWithCopyWarning: \n",
      "A value is trying to be set on a copy of a slice from a DataFrame.\n",
      "Try using .loc[row_indexer,col_indexer] = value instead\n",
      "\n",
      "See the caveats in the documentation: https://pandas.pydata.org/pandas-docs/stable/user_guide/indexing.html#returning-a-view-versus-a-copy\n",
      "  df[columns[_]+'+'+columns[__]] = df[columns[_]] + df[columns[__]]\n",
      "C:\\Temp\\ipykernel_14184\\3796706222.py:6: SettingWithCopyWarning: \n",
      "A value is trying to be set on a copy of a slice from a DataFrame.\n",
      "Try using .loc[row_indexer,col_indexer] = value instead\n",
      "\n",
      "See the caveats in the documentation: https://pandas.pydata.org/pandas-docs/stable/user_guide/indexing.html#returning-a-view-versus-a-copy\n",
      "  df[columns[_]+'+'+columns[__]] = df[columns[_]] + df[columns[__]]\n",
      "C:\\Temp\\ipykernel_14184\\3796706222.py:6: SettingWithCopyWarning: \n",
      "A value is trying to be set on a copy of a slice from a DataFrame.\n",
      "Try using .loc[row_indexer,col_indexer] = value instead\n",
      "\n",
      "See the caveats in the documentation: https://pandas.pydata.org/pandas-docs/stable/user_guide/indexing.html#returning-a-view-versus-a-copy\n",
      "  df[columns[_]+'+'+columns[__]] = df[columns[_]] + df[columns[__]]\n",
      "C:\\Temp\\ipykernel_14184\\3796706222.py:6: SettingWithCopyWarning: \n",
      "A value is trying to be set on a copy of a slice from a DataFrame.\n",
      "Try using .loc[row_indexer,col_indexer] = value instead\n",
      "\n",
      "See the caveats in the documentation: https://pandas.pydata.org/pandas-docs/stable/user_guide/indexing.html#returning-a-view-versus-a-copy\n",
      "  df[columns[_]+'+'+columns[__]] = df[columns[_]] + df[columns[__]]\n",
      "C:\\Temp\\ipykernel_14184\\3796706222.py:6: SettingWithCopyWarning: \n",
      "A value is trying to be set on a copy of a slice from a DataFrame.\n",
      "Try using .loc[row_indexer,col_indexer] = value instead\n",
      "\n",
      "See the caveats in the documentation: https://pandas.pydata.org/pandas-docs/stable/user_guide/indexing.html#returning-a-view-versus-a-copy\n",
      "  df[columns[_]+'+'+columns[__]] = df[columns[_]] + df[columns[__]]\n",
      "C:\\Temp\\ipykernel_14184\\3796706222.py:6: SettingWithCopyWarning: \n",
      "A value is trying to be set on a copy of a slice from a DataFrame.\n",
      "Try using .loc[row_indexer,col_indexer] = value instead\n",
      "\n",
      "See the caveats in the documentation: https://pandas.pydata.org/pandas-docs/stable/user_guide/indexing.html#returning-a-view-versus-a-copy\n",
      "  df[columns[_]+'+'+columns[__]] = df[columns[_]] + df[columns[__]]\n",
      "C:\\Temp\\ipykernel_14184\\3796706222.py:6: SettingWithCopyWarning: \n",
      "A value is trying to be set on a copy of a slice from a DataFrame.\n",
      "Try using .loc[row_indexer,col_indexer] = value instead\n",
      "\n",
      "See the caveats in the documentation: https://pandas.pydata.org/pandas-docs/stable/user_guide/indexing.html#returning-a-view-versus-a-copy\n",
      "  df[columns[_]+'+'+columns[__]] = df[columns[_]] + df[columns[__]]\n",
      "C:\\Temp\\ipykernel_14184\\3796706222.py:6: SettingWithCopyWarning: \n",
      "A value is trying to be set on a copy of a slice from a DataFrame.\n",
      "Try using .loc[row_indexer,col_indexer] = value instead\n",
      "\n",
      "See the caveats in the documentation: https://pandas.pydata.org/pandas-docs/stable/user_guide/indexing.html#returning-a-view-versus-a-copy\n",
      "  df[columns[_]+'+'+columns[__]] = df[columns[_]] + df[columns[__]]\n",
      "C:\\Temp\\ipykernel_14184\\3796706222.py:6: SettingWithCopyWarning: \n",
      "A value is trying to be set on a copy of a slice from a DataFrame.\n",
      "Try using .loc[row_indexer,col_indexer] = value instead\n",
      "\n",
      "See the caveats in the documentation: https://pandas.pydata.org/pandas-docs/stable/user_guide/indexing.html#returning-a-view-versus-a-copy\n",
      "  df[columns[_]+'+'+columns[__]] = df[columns[_]] + df[columns[__]]\n",
      "C:\\Temp\\ipykernel_14184\\3796706222.py:6: SettingWithCopyWarning: \n",
      "A value is trying to be set on a copy of a slice from a DataFrame.\n",
      "Try using .loc[row_indexer,col_indexer] = value instead\n",
      "\n",
      "See the caveats in the documentation: https://pandas.pydata.org/pandas-docs/stable/user_guide/indexing.html#returning-a-view-versus-a-copy\n",
      "  df[columns[_]+'+'+columns[__]] = df[columns[_]] + df[columns[__]]\n",
      "C:\\Temp\\ipykernel_14184\\3796706222.py:6: SettingWithCopyWarning: \n",
      "A value is trying to be set on a copy of a slice from a DataFrame.\n",
      "Try using .loc[row_indexer,col_indexer] = value instead\n",
      "\n",
      "See the caveats in the documentation: https://pandas.pydata.org/pandas-docs/stable/user_guide/indexing.html#returning-a-view-versus-a-copy\n",
      "  df[columns[_]+'+'+columns[__]] = df[columns[_]] + df[columns[__]]\n",
      "C:\\Temp\\ipykernel_14184\\3796706222.py:6: SettingWithCopyWarning: \n",
      "A value is trying to be set on a copy of a slice from a DataFrame.\n",
      "Try using .loc[row_indexer,col_indexer] = value instead\n",
      "\n",
      "See the caveats in the documentation: https://pandas.pydata.org/pandas-docs/stable/user_guide/indexing.html#returning-a-view-versus-a-copy\n",
      "  df[columns[_]+'+'+columns[__]] = df[columns[_]] + df[columns[__]]\n",
      "C:\\Temp\\ipykernel_14184\\3796706222.py:6: SettingWithCopyWarning: \n",
      "A value is trying to be set on a copy of a slice from a DataFrame.\n",
      "Try using .loc[row_indexer,col_indexer] = value instead\n",
      "\n",
      "See the caveats in the documentation: https://pandas.pydata.org/pandas-docs/stable/user_guide/indexing.html#returning-a-view-versus-a-copy\n",
      "  df[columns[_]+'+'+columns[__]] = df[columns[_]] + df[columns[__]]\n",
      "C:\\Temp\\ipykernel_14184\\3796706222.py:6: SettingWithCopyWarning: \n",
      "A value is trying to be set on a copy of a slice from a DataFrame.\n",
      "Try using .loc[row_indexer,col_indexer] = value instead\n",
      "\n",
      "See the caveats in the documentation: https://pandas.pydata.org/pandas-docs/stable/user_guide/indexing.html#returning-a-view-versus-a-copy\n",
      "  df[columns[_]+'+'+columns[__]] = df[columns[_]] + df[columns[__]]\n",
      "C:\\Temp\\ipykernel_14184\\3796706222.py:6: SettingWithCopyWarning: \n",
      "A value is trying to be set on a copy of a slice from a DataFrame.\n",
      "Try using .loc[row_indexer,col_indexer] = value instead\n",
      "\n",
      "See the caveats in the documentation: https://pandas.pydata.org/pandas-docs/stable/user_guide/indexing.html#returning-a-view-versus-a-copy\n",
      "  df[columns[_]+'+'+columns[__]] = df[columns[_]] + df[columns[__]]\n",
      "C:\\Temp\\ipykernel_14184\\3796706222.py:6: SettingWithCopyWarning: \n",
      "A value is trying to be set on a copy of a slice from a DataFrame.\n",
      "Try using .loc[row_indexer,col_indexer] = value instead\n",
      "\n",
      "See the caveats in the documentation: https://pandas.pydata.org/pandas-docs/stable/user_guide/indexing.html#returning-a-view-versus-a-copy\n",
      "  df[columns[_]+'+'+columns[__]] = df[columns[_]] + df[columns[__]]\n",
      "C:\\Temp\\ipykernel_14184\\3796706222.py:6: SettingWithCopyWarning: \n",
      "A value is trying to be set on a copy of a slice from a DataFrame.\n",
      "Try using .loc[row_indexer,col_indexer] = value instead\n",
      "\n",
      "See the caveats in the documentation: https://pandas.pydata.org/pandas-docs/stable/user_guide/indexing.html#returning-a-view-versus-a-copy\n",
      "  df[columns[_]+'+'+columns[__]] = df[columns[_]] + df[columns[__]]\n",
      "C:\\Temp\\ipykernel_14184\\3796706222.py:6: SettingWithCopyWarning: \n",
      "A value is trying to be set on a copy of a slice from a DataFrame.\n",
      "Try using .loc[row_indexer,col_indexer] = value instead\n",
      "\n",
      "See the caveats in the documentation: https://pandas.pydata.org/pandas-docs/stable/user_guide/indexing.html#returning-a-view-versus-a-copy\n",
      "  df[columns[_]+'+'+columns[__]] = df[columns[_]] + df[columns[__]]\n",
      "C:\\Temp\\ipykernel_14184\\3796706222.py:6: SettingWithCopyWarning: \n",
      "A value is trying to be set on a copy of a slice from a DataFrame.\n",
      "Try using .loc[row_indexer,col_indexer] = value instead\n",
      "\n",
      "See the caveats in the documentation: https://pandas.pydata.org/pandas-docs/stable/user_guide/indexing.html#returning-a-view-versus-a-copy\n",
      "  df[columns[_]+'+'+columns[__]] = df[columns[_]] + df[columns[__]]\n",
      "C:\\Temp\\ipykernel_14184\\3796706222.py:6: SettingWithCopyWarning: \n",
      "A value is trying to be set on a copy of a slice from a DataFrame.\n",
      "Try using .loc[row_indexer,col_indexer] = value instead\n",
      "\n",
      "See the caveats in the documentation: https://pandas.pydata.org/pandas-docs/stable/user_guide/indexing.html#returning-a-view-versus-a-copy\n",
      "  df[columns[_]+'+'+columns[__]] = df[columns[_]] + df[columns[__]]\n",
      "C:\\Temp\\ipykernel_14184\\3796706222.py:6: SettingWithCopyWarning: \n",
      "A value is trying to be set on a copy of a slice from a DataFrame.\n",
      "Try using .loc[row_indexer,col_indexer] = value instead\n",
      "\n",
      "See the caveats in the documentation: https://pandas.pydata.org/pandas-docs/stable/user_guide/indexing.html#returning-a-view-versus-a-copy\n",
      "  df[columns[_]+'+'+columns[__]] = df[columns[_]] + df[columns[__]]\n",
      "C:\\Temp\\ipykernel_14184\\3796706222.py:6: SettingWithCopyWarning: \n",
      "A value is trying to be set on a copy of a slice from a DataFrame.\n",
      "Try using .loc[row_indexer,col_indexer] = value instead\n",
      "\n",
      "See the caveats in the documentation: https://pandas.pydata.org/pandas-docs/stable/user_guide/indexing.html#returning-a-view-versus-a-copy\n",
      "  df[columns[_]+'+'+columns[__]] = df[columns[_]] + df[columns[__]]\n",
      "C:\\Temp\\ipykernel_14184\\3796706222.py:6: SettingWithCopyWarning: \n",
      "A value is trying to be set on a copy of a slice from a DataFrame.\n",
      "Try using .loc[row_indexer,col_indexer] = value instead\n",
      "\n",
      "See the caveats in the documentation: https://pandas.pydata.org/pandas-docs/stable/user_guide/indexing.html#returning-a-view-versus-a-copy\n",
      "  df[columns[_]+'+'+columns[__]] = df[columns[_]] + df[columns[__]]\n",
      "C:\\Temp\\ipykernel_14184\\3796706222.py:6: SettingWithCopyWarning: \n",
      "A value is trying to be set on a copy of a slice from a DataFrame.\n",
      "Try using .loc[row_indexer,col_indexer] = value instead\n",
      "\n",
      "See the caveats in the documentation: https://pandas.pydata.org/pandas-docs/stable/user_guide/indexing.html#returning-a-view-versus-a-copy\n",
      "  df[columns[_]+'+'+columns[__]] = df[columns[_]] + df[columns[__]]\n",
      "C:\\Temp\\ipykernel_14184\\3796706222.py:6: SettingWithCopyWarning: \n",
      "A value is trying to be set on a copy of a slice from a DataFrame.\n",
      "Try using .loc[row_indexer,col_indexer] = value instead\n",
      "\n",
      "See the caveats in the documentation: https://pandas.pydata.org/pandas-docs/stable/user_guide/indexing.html#returning-a-view-versus-a-copy\n",
      "  df[columns[_]+'+'+columns[__]] = df[columns[_]] + df[columns[__]]\n",
      "C:\\Temp\\ipykernel_14184\\3796706222.py:6: SettingWithCopyWarning: \n",
      "A value is trying to be set on a copy of a slice from a DataFrame.\n",
      "Try using .loc[row_indexer,col_indexer] = value instead\n",
      "\n",
      "See the caveats in the documentation: https://pandas.pydata.org/pandas-docs/stable/user_guide/indexing.html#returning-a-view-versus-a-copy\n",
      "  df[columns[_]+'+'+columns[__]] = df[columns[_]] + df[columns[__]]\n",
      "C:\\Temp\\ipykernel_14184\\3796706222.py:6: SettingWithCopyWarning: \n",
      "A value is trying to be set on a copy of a slice from a DataFrame.\n",
      "Try using .loc[row_indexer,col_indexer] = value instead\n",
      "\n",
      "See the caveats in the documentation: https://pandas.pydata.org/pandas-docs/stable/user_guide/indexing.html#returning-a-view-versus-a-copy\n",
      "  df[columns[_]+'+'+columns[__]] = df[columns[_]] + df[columns[__]]\n",
      "C:\\Temp\\ipykernel_14184\\3796706222.py:6: SettingWithCopyWarning: \n",
      "A value is trying to be set on a copy of a slice from a DataFrame.\n",
      "Try using .loc[row_indexer,col_indexer] = value instead\n",
      "\n",
      "See the caveats in the documentation: https://pandas.pydata.org/pandas-docs/stable/user_guide/indexing.html#returning-a-view-versus-a-copy\n",
      "  df[columns[_]+'+'+columns[__]] = df[columns[_]] + df[columns[__]]\n",
      "C:\\Temp\\ipykernel_14184\\3796706222.py:6: SettingWithCopyWarning: \n",
      "A value is trying to be set on a copy of a slice from a DataFrame.\n",
      "Try using .loc[row_indexer,col_indexer] = value instead\n",
      "\n",
      "See the caveats in the documentation: https://pandas.pydata.org/pandas-docs/stable/user_guide/indexing.html#returning-a-view-versus-a-copy\n",
      "  df[columns[_]+'+'+columns[__]] = df[columns[_]] + df[columns[__]]\n",
      "C:\\Temp\\ipykernel_14184\\3796706222.py:6: SettingWithCopyWarning: \n",
      "A value is trying to be set on a copy of a slice from a DataFrame.\n",
      "Try using .loc[row_indexer,col_indexer] = value instead\n",
      "\n",
      "See the caveats in the documentation: https://pandas.pydata.org/pandas-docs/stable/user_guide/indexing.html#returning-a-view-versus-a-copy\n",
      "  df[columns[_]+'+'+columns[__]] = df[columns[_]] + df[columns[__]]\n",
      "C:\\Temp\\ipykernel_14184\\3796706222.py:6: SettingWithCopyWarning: \n",
      "A value is trying to be set on a copy of a slice from a DataFrame.\n",
      "Try using .loc[row_indexer,col_indexer] = value instead\n",
      "\n",
      "See the caveats in the documentation: https://pandas.pydata.org/pandas-docs/stable/user_guide/indexing.html#returning-a-view-versus-a-copy\n",
      "  df[columns[_]+'+'+columns[__]] = df[columns[_]] + df[columns[__]]\n",
      "C:\\Temp\\ipykernel_14184\\3796706222.py:6: SettingWithCopyWarning: \n",
      "A value is trying to be set on a copy of a slice from a DataFrame.\n",
      "Try using .loc[row_indexer,col_indexer] = value instead\n",
      "\n",
      "See the caveats in the documentation: https://pandas.pydata.org/pandas-docs/stable/user_guide/indexing.html#returning-a-view-versus-a-copy\n",
      "  df[columns[_]+'+'+columns[__]] = df[columns[_]] + df[columns[__]]\n",
      "C:\\Temp\\ipykernel_14184\\3796706222.py:6: SettingWithCopyWarning: \n",
      "A value is trying to be set on a copy of a slice from a DataFrame.\n",
      "Try using .loc[row_indexer,col_indexer] = value instead\n",
      "\n",
      "See the caveats in the documentation: https://pandas.pydata.org/pandas-docs/stable/user_guide/indexing.html#returning-a-view-versus-a-copy\n",
      "  df[columns[_]+'+'+columns[__]] = df[columns[_]] + df[columns[__]]\n",
      "C:\\Temp\\ipykernel_14184\\3796706222.py:6: SettingWithCopyWarning: \n",
      "A value is trying to be set on a copy of a slice from a DataFrame.\n",
      "Try using .loc[row_indexer,col_indexer] = value instead\n",
      "\n",
      "See the caveats in the documentation: https://pandas.pydata.org/pandas-docs/stable/user_guide/indexing.html#returning-a-view-versus-a-copy\n",
      "  df[columns[_]+'+'+columns[__]] = df[columns[_]] + df[columns[__]]\n",
      "C:\\Temp\\ipykernel_14184\\3796706222.py:6: SettingWithCopyWarning: \n",
      "A value is trying to be set on a copy of a slice from a DataFrame.\n",
      "Try using .loc[row_indexer,col_indexer] = value instead\n",
      "\n",
      "See the caveats in the documentation: https://pandas.pydata.org/pandas-docs/stable/user_guide/indexing.html#returning-a-view-versus-a-copy\n",
      "  df[columns[_]+'+'+columns[__]] = df[columns[_]] + df[columns[__]]\n",
      "C:\\Temp\\ipykernel_14184\\3796706222.py:6: SettingWithCopyWarning: \n",
      "A value is trying to be set on a copy of a slice from a DataFrame.\n",
      "Try using .loc[row_indexer,col_indexer] = value instead\n",
      "\n",
      "See the caveats in the documentation: https://pandas.pydata.org/pandas-docs/stable/user_guide/indexing.html#returning-a-view-versus-a-copy\n",
      "  df[columns[_]+'+'+columns[__]] = df[columns[_]] + df[columns[__]]\n",
      "C:\\Temp\\ipykernel_14184\\3796706222.py:6: SettingWithCopyWarning: \n",
      "A value is trying to be set on a copy of a slice from a DataFrame.\n",
      "Try using .loc[row_indexer,col_indexer] = value instead\n",
      "\n",
      "See the caveats in the documentation: https://pandas.pydata.org/pandas-docs/stable/user_guide/indexing.html#returning-a-view-versus-a-copy\n",
      "  df[columns[_]+'+'+columns[__]] = df[columns[_]] + df[columns[__]]\n",
      "C:\\Temp\\ipykernel_14184\\3796706222.py:6: SettingWithCopyWarning: \n",
      "A value is trying to be set on a copy of a slice from a DataFrame.\n",
      "Try using .loc[row_indexer,col_indexer] = value instead\n",
      "\n",
      "See the caveats in the documentation: https://pandas.pydata.org/pandas-docs/stable/user_guide/indexing.html#returning-a-view-versus-a-copy\n",
      "  df[columns[_]+'+'+columns[__]] = df[columns[_]] + df[columns[__]]\n",
      "C:\\Temp\\ipykernel_14184\\3796706222.py:6: SettingWithCopyWarning: \n",
      "A value is trying to be set on a copy of a slice from a DataFrame.\n",
      "Try using .loc[row_indexer,col_indexer] = value instead\n",
      "\n",
      "See the caveats in the documentation: https://pandas.pydata.org/pandas-docs/stable/user_guide/indexing.html#returning-a-view-versus-a-copy\n",
      "  df[columns[_]+'+'+columns[__]] = df[columns[_]] + df[columns[__]]\n",
      "C:\\Temp\\ipykernel_14184\\3796706222.py:6: SettingWithCopyWarning: \n",
      "A value is trying to be set on a copy of a slice from a DataFrame.\n",
      "Try using .loc[row_indexer,col_indexer] = value instead\n",
      "\n",
      "See the caveats in the documentation: https://pandas.pydata.org/pandas-docs/stable/user_guide/indexing.html#returning-a-view-versus-a-copy\n",
      "  df[columns[_]+'+'+columns[__]] = df[columns[_]] + df[columns[__]]\n",
      "C:\\Temp\\ipykernel_14184\\3796706222.py:6: SettingWithCopyWarning: \n",
      "A value is trying to be set on a copy of a slice from a DataFrame.\n",
      "Try using .loc[row_indexer,col_indexer] = value instead\n",
      "\n",
      "See the caveats in the documentation: https://pandas.pydata.org/pandas-docs/stable/user_guide/indexing.html#returning-a-view-versus-a-copy\n",
      "  df[columns[_]+'+'+columns[__]] = df[columns[_]] + df[columns[__]]\n",
      "C:\\Temp\\ipykernel_14184\\3796706222.py:6: SettingWithCopyWarning: \n",
      "A value is trying to be set on a copy of a slice from a DataFrame.\n",
      "Try using .loc[row_indexer,col_indexer] = value instead\n",
      "\n",
      "See the caveats in the documentation: https://pandas.pydata.org/pandas-docs/stable/user_guide/indexing.html#returning-a-view-versus-a-copy\n",
      "  df[columns[_]+'+'+columns[__]] = df[columns[_]] + df[columns[__]]\n",
      "C:\\Temp\\ipykernel_14184\\3796706222.py:6: SettingWithCopyWarning: \n",
      "A value is trying to be set on a copy of a slice from a DataFrame.\n",
      "Try using .loc[row_indexer,col_indexer] = value instead\n",
      "\n",
      "See the caveats in the documentation: https://pandas.pydata.org/pandas-docs/stable/user_guide/indexing.html#returning-a-view-versus-a-copy\n",
      "  df[columns[_]+'+'+columns[__]] = df[columns[_]] + df[columns[__]]\n",
      "C:\\Temp\\ipykernel_14184\\3796706222.py:6: SettingWithCopyWarning: \n",
      "A value is trying to be set on a copy of a slice from a DataFrame.\n",
      "Try using .loc[row_indexer,col_indexer] = value instead\n",
      "\n",
      "See the caveats in the documentation: https://pandas.pydata.org/pandas-docs/stable/user_guide/indexing.html#returning-a-view-versus-a-copy\n",
      "  df[columns[_]+'+'+columns[__]] = df[columns[_]] + df[columns[__]]\n",
      "C:\\Temp\\ipykernel_14184\\3796706222.py:6: SettingWithCopyWarning: \n",
      "A value is trying to be set on a copy of a slice from a DataFrame.\n",
      "Try using .loc[row_indexer,col_indexer] = value instead\n",
      "\n",
      "See the caveats in the documentation: https://pandas.pydata.org/pandas-docs/stable/user_guide/indexing.html#returning-a-view-versus-a-copy\n",
      "  df[columns[_]+'+'+columns[__]] = df[columns[_]] + df[columns[__]]\n",
      "C:\\Temp\\ipykernel_14184\\3796706222.py:6: SettingWithCopyWarning: \n",
      "A value is trying to be set on a copy of a slice from a DataFrame.\n",
      "Try using .loc[row_indexer,col_indexer] = value instead\n",
      "\n",
      "See the caveats in the documentation: https://pandas.pydata.org/pandas-docs/stable/user_guide/indexing.html#returning-a-view-versus-a-copy\n",
      "  df[columns[_]+'+'+columns[__]] = df[columns[_]] + df[columns[__]]\n",
      "C:\\Temp\\ipykernel_14184\\3796706222.py:6: SettingWithCopyWarning: \n",
      "A value is trying to be set on a copy of a slice from a DataFrame.\n",
      "Try using .loc[row_indexer,col_indexer] = value instead\n",
      "\n",
      "See the caveats in the documentation: https://pandas.pydata.org/pandas-docs/stable/user_guide/indexing.html#returning-a-view-versus-a-copy\n",
      "  df[columns[_]+'+'+columns[__]] = df[columns[_]] + df[columns[__]]\n",
      "C:\\Temp\\ipykernel_14184\\3796706222.py:11: SettingWithCopyWarning: \n",
      "A value is trying to be set on a copy of a slice from a DataFrame.\n",
      "Try using .loc[row_indexer,col_indexer] = value instead\n",
      "\n",
      "See the caveats in the documentation: https://pandas.pydata.org/pandas-docs/stable/user_guide/indexing.html#returning-a-view-versus-a-copy\n",
      "  df[columns[_]+'*'+columns[__]] = df[columns[_]] * df[columns[__]]\n",
      "C:\\Temp\\ipykernel_14184\\3796706222.py:11: SettingWithCopyWarning: \n",
      "A value is trying to be set on a copy of a slice from a DataFrame.\n",
      "Try using .loc[row_indexer,col_indexer] = value instead\n",
      "\n",
      "See the caveats in the documentation: https://pandas.pydata.org/pandas-docs/stable/user_guide/indexing.html#returning-a-view-versus-a-copy\n",
      "  df[columns[_]+'*'+columns[__]] = df[columns[_]] * df[columns[__]]\n",
      "C:\\Temp\\ipykernel_14184\\3796706222.py:11: SettingWithCopyWarning: \n",
      "A value is trying to be set on a copy of a slice from a DataFrame.\n",
      "Try using .loc[row_indexer,col_indexer] = value instead\n",
      "\n",
      "See the caveats in the documentation: https://pandas.pydata.org/pandas-docs/stable/user_guide/indexing.html#returning-a-view-versus-a-copy\n",
      "  df[columns[_]+'*'+columns[__]] = df[columns[_]] * df[columns[__]]\n",
      "C:\\Temp\\ipykernel_14184\\3796706222.py:11: SettingWithCopyWarning: \n",
      "A value is trying to be set on a copy of a slice from a DataFrame.\n",
      "Try using .loc[row_indexer,col_indexer] = value instead\n",
      "\n",
      "See the caveats in the documentation: https://pandas.pydata.org/pandas-docs/stable/user_guide/indexing.html#returning-a-view-versus-a-copy\n",
      "  df[columns[_]+'*'+columns[__]] = df[columns[_]] * df[columns[__]]\n",
      "C:\\Temp\\ipykernel_14184\\3796706222.py:11: SettingWithCopyWarning: \n",
      "A value is trying to be set on a copy of a slice from a DataFrame.\n",
      "Try using .loc[row_indexer,col_indexer] = value instead\n",
      "\n",
      "See the caveats in the documentation: https://pandas.pydata.org/pandas-docs/stable/user_guide/indexing.html#returning-a-view-versus-a-copy\n",
      "  df[columns[_]+'*'+columns[__]] = df[columns[_]] * df[columns[__]]\n",
      "C:\\Temp\\ipykernel_14184\\3796706222.py:11: SettingWithCopyWarning: \n",
      "A value is trying to be set on a copy of a slice from a DataFrame.\n",
      "Try using .loc[row_indexer,col_indexer] = value instead\n",
      "\n",
      "See the caveats in the documentation: https://pandas.pydata.org/pandas-docs/stable/user_guide/indexing.html#returning-a-view-versus-a-copy\n",
      "  df[columns[_]+'*'+columns[__]] = df[columns[_]] * df[columns[__]]\n",
      "C:\\Temp\\ipykernel_14184\\3796706222.py:11: SettingWithCopyWarning: \n",
      "A value is trying to be set on a copy of a slice from a DataFrame.\n",
      "Try using .loc[row_indexer,col_indexer] = value instead\n",
      "\n",
      "See the caveats in the documentation: https://pandas.pydata.org/pandas-docs/stable/user_guide/indexing.html#returning-a-view-versus-a-copy\n",
      "  df[columns[_]+'*'+columns[__]] = df[columns[_]] * df[columns[__]]\n",
      "C:\\Temp\\ipykernel_14184\\3796706222.py:11: SettingWithCopyWarning: \n",
      "A value is trying to be set on a copy of a slice from a DataFrame.\n",
      "Try using .loc[row_indexer,col_indexer] = value instead\n",
      "\n",
      "See the caveats in the documentation: https://pandas.pydata.org/pandas-docs/stable/user_guide/indexing.html#returning-a-view-versus-a-copy\n",
      "  df[columns[_]+'*'+columns[__]] = df[columns[_]] * df[columns[__]]\n",
      "C:\\Temp\\ipykernel_14184\\3796706222.py:11: SettingWithCopyWarning: \n",
      "A value is trying to be set on a copy of a slice from a DataFrame.\n",
      "Try using .loc[row_indexer,col_indexer] = value instead\n",
      "\n",
      "See the caveats in the documentation: https://pandas.pydata.org/pandas-docs/stable/user_guide/indexing.html#returning-a-view-versus-a-copy\n",
      "  df[columns[_]+'*'+columns[__]] = df[columns[_]] * df[columns[__]]\n",
      "C:\\Temp\\ipykernel_14184\\3796706222.py:11: SettingWithCopyWarning: \n",
      "A value is trying to be set on a copy of a slice from a DataFrame.\n",
      "Try using .loc[row_indexer,col_indexer] = value instead\n",
      "\n",
      "See the caveats in the documentation: https://pandas.pydata.org/pandas-docs/stable/user_guide/indexing.html#returning-a-view-versus-a-copy\n",
      "  df[columns[_]+'*'+columns[__]] = df[columns[_]] * df[columns[__]]\n",
      "C:\\Temp\\ipykernel_14184\\3796706222.py:11: SettingWithCopyWarning: \n",
      "A value is trying to be set on a copy of a slice from a DataFrame.\n",
      "Try using .loc[row_indexer,col_indexer] = value instead\n",
      "\n",
      "See the caveats in the documentation: https://pandas.pydata.org/pandas-docs/stable/user_guide/indexing.html#returning-a-view-versus-a-copy\n",
      "  df[columns[_]+'*'+columns[__]] = df[columns[_]] * df[columns[__]]\n",
      "C:\\Temp\\ipykernel_14184\\3796706222.py:11: SettingWithCopyWarning: \n",
      "A value is trying to be set on a copy of a slice from a DataFrame.\n",
      "Try using .loc[row_indexer,col_indexer] = value instead\n",
      "\n",
      "See the caveats in the documentation: https://pandas.pydata.org/pandas-docs/stable/user_guide/indexing.html#returning-a-view-versus-a-copy\n",
      "  df[columns[_]+'*'+columns[__]] = df[columns[_]] * df[columns[__]]\n",
      "C:\\Temp\\ipykernel_14184\\3796706222.py:11: SettingWithCopyWarning: \n",
      "A value is trying to be set on a copy of a slice from a DataFrame.\n",
      "Try using .loc[row_indexer,col_indexer] = value instead\n",
      "\n",
      "See the caveats in the documentation: https://pandas.pydata.org/pandas-docs/stable/user_guide/indexing.html#returning-a-view-versus-a-copy\n",
      "  df[columns[_]+'*'+columns[__]] = df[columns[_]] * df[columns[__]]\n",
      "C:\\Temp\\ipykernel_14184\\3796706222.py:11: SettingWithCopyWarning: \n",
      "A value is trying to be set on a copy of a slice from a DataFrame.\n",
      "Try using .loc[row_indexer,col_indexer] = value instead\n",
      "\n",
      "See the caveats in the documentation: https://pandas.pydata.org/pandas-docs/stable/user_guide/indexing.html#returning-a-view-versus-a-copy\n",
      "  df[columns[_]+'*'+columns[__]] = df[columns[_]] * df[columns[__]]\n",
      "C:\\Temp\\ipykernel_14184\\3796706222.py:11: SettingWithCopyWarning: \n",
      "A value is trying to be set on a copy of a slice from a DataFrame.\n",
      "Try using .loc[row_indexer,col_indexer] = value instead\n",
      "\n",
      "See the caveats in the documentation: https://pandas.pydata.org/pandas-docs/stable/user_guide/indexing.html#returning-a-view-versus-a-copy\n",
      "  df[columns[_]+'*'+columns[__]] = df[columns[_]] * df[columns[__]]\n",
      "C:\\Temp\\ipykernel_14184\\3796706222.py:11: SettingWithCopyWarning: \n",
      "A value is trying to be set on a copy of a slice from a DataFrame.\n",
      "Try using .loc[row_indexer,col_indexer] = value instead\n",
      "\n",
      "See the caveats in the documentation: https://pandas.pydata.org/pandas-docs/stable/user_guide/indexing.html#returning-a-view-versus-a-copy\n",
      "  df[columns[_]+'*'+columns[__]] = df[columns[_]] * df[columns[__]]\n",
      "C:\\Temp\\ipykernel_14184\\3796706222.py:11: SettingWithCopyWarning: \n",
      "A value is trying to be set on a copy of a slice from a DataFrame.\n",
      "Try using .loc[row_indexer,col_indexer] = value instead\n",
      "\n",
      "See the caveats in the documentation: https://pandas.pydata.org/pandas-docs/stable/user_guide/indexing.html#returning-a-view-versus-a-copy\n",
      "  df[columns[_]+'*'+columns[__]] = df[columns[_]] * df[columns[__]]\n",
      "C:\\Temp\\ipykernel_14184\\3796706222.py:11: SettingWithCopyWarning: \n",
      "A value is trying to be set on a copy of a slice from a DataFrame.\n",
      "Try using .loc[row_indexer,col_indexer] = value instead\n",
      "\n",
      "See the caveats in the documentation: https://pandas.pydata.org/pandas-docs/stable/user_guide/indexing.html#returning-a-view-versus-a-copy\n",
      "  df[columns[_]+'*'+columns[__]] = df[columns[_]] * df[columns[__]]\n",
      "C:\\Temp\\ipykernel_14184\\3796706222.py:11: SettingWithCopyWarning: \n",
      "A value is trying to be set on a copy of a slice from a DataFrame.\n",
      "Try using .loc[row_indexer,col_indexer] = value instead\n",
      "\n",
      "See the caveats in the documentation: https://pandas.pydata.org/pandas-docs/stable/user_guide/indexing.html#returning-a-view-versus-a-copy\n",
      "  df[columns[_]+'*'+columns[__]] = df[columns[_]] * df[columns[__]]\n",
      "C:\\Temp\\ipykernel_14184\\3796706222.py:11: SettingWithCopyWarning: \n",
      "A value is trying to be set on a copy of a slice from a DataFrame.\n",
      "Try using .loc[row_indexer,col_indexer] = value instead\n",
      "\n",
      "See the caveats in the documentation: https://pandas.pydata.org/pandas-docs/stable/user_guide/indexing.html#returning-a-view-versus-a-copy\n",
      "  df[columns[_]+'*'+columns[__]] = df[columns[_]] * df[columns[__]]\n",
      "C:\\Temp\\ipykernel_14184\\3796706222.py:11: SettingWithCopyWarning: \n",
      "A value is trying to be set on a copy of a slice from a DataFrame.\n",
      "Try using .loc[row_indexer,col_indexer] = value instead\n",
      "\n",
      "See the caveats in the documentation: https://pandas.pydata.org/pandas-docs/stable/user_guide/indexing.html#returning-a-view-versus-a-copy\n",
      "  df[columns[_]+'*'+columns[__]] = df[columns[_]] * df[columns[__]]\n",
      "C:\\Temp\\ipykernel_14184\\3796706222.py:11: SettingWithCopyWarning: \n",
      "A value is trying to be set on a copy of a slice from a DataFrame.\n",
      "Try using .loc[row_indexer,col_indexer] = value instead\n",
      "\n",
      "See the caveats in the documentation: https://pandas.pydata.org/pandas-docs/stable/user_guide/indexing.html#returning-a-view-versus-a-copy\n",
      "  df[columns[_]+'*'+columns[__]] = df[columns[_]] * df[columns[__]]\n",
      "C:\\Temp\\ipykernel_14184\\3796706222.py:11: SettingWithCopyWarning: \n",
      "A value is trying to be set on a copy of a slice from a DataFrame.\n",
      "Try using .loc[row_indexer,col_indexer] = value instead\n",
      "\n",
      "See the caveats in the documentation: https://pandas.pydata.org/pandas-docs/stable/user_guide/indexing.html#returning-a-view-versus-a-copy\n",
      "  df[columns[_]+'*'+columns[__]] = df[columns[_]] * df[columns[__]]\n",
      "C:\\Temp\\ipykernel_14184\\3796706222.py:11: SettingWithCopyWarning: \n",
      "A value is trying to be set on a copy of a slice from a DataFrame.\n",
      "Try using .loc[row_indexer,col_indexer] = value instead\n",
      "\n",
      "See the caveats in the documentation: https://pandas.pydata.org/pandas-docs/stable/user_guide/indexing.html#returning-a-view-versus-a-copy\n",
      "  df[columns[_]+'*'+columns[__]] = df[columns[_]] * df[columns[__]]\n",
      "C:\\Temp\\ipykernel_14184\\3796706222.py:11: SettingWithCopyWarning: \n",
      "A value is trying to be set on a copy of a slice from a DataFrame.\n",
      "Try using .loc[row_indexer,col_indexer] = value instead\n",
      "\n",
      "See the caveats in the documentation: https://pandas.pydata.org/pandas-docs/stable/user_guide/indexing.html#returning-a-view-versus-a-copy\n",
      "  df[columns[_]+'*'+columns[__]] = df[columns[_]] * df[columns[__]]\n",
      "C:\\Temp\\ipykernel_14184\\3796706222.py:11: SettingWithCopyWarning: \n",
      "A value is trying to be set on a copy of a slice from a DataFrame.\n",
      "Try using .loc[row_indexer,col_indexer] = value instead\n",
      "\n",
      "See the caveats in the documentation: https://pandas.pydata.org/pandas-docs/stable/user_guide/indexing.html#returning-a-view-versus-a-copy\n",
      "  df[columns[_]+'*'+columns[__]] = df[columns[_]] * df[columns[__]]\n",
      "C:\\Temp\\ipykernel_14184\\3796706222.py:11: SettingWithCopyWarning: \n",
      "A value is trying to be set on a copy of a slice from a DataFrame.\n",
      "Try using .loc[row_indexer,col_indexer] = value instead\n",
      "\n",
      "See the caveats in the documentation: https://pandas.pydata.org/pandas-docs/stable/user_guide/indexing.html#returning-a-view-versus-a-copy\n",
      "  df[columns[_]+'*'+columns[__]] = df[columns[_]] * df[columns[__]]\n",
      "C:\\Temp\\ipykernel_14184\\3796706222.py:11: SettingWithCopyWarning: \n",
      "A value is trying to be set on a copy of a slice from a DataFrame.\n",
      "Try using .loc[row_indexer,col_indexer] = value instead\n",
      "\n",
      "See the caveats in the documentation: https://pandas.pydata.org/pandas-docs/stable/user_guide/indexing.html#returning-a-view-versus-a-copy\n",
      "  df[columns[_]+'*'+columns[__]] = df[columns[_]] * df[columns[__]]\n",
      "C:\\Temp\\ipykernel_14184\\3796706222.py:11: SettingWithCopyWarning: \n",
      "A value is trying to be set on a copy of a slice from a DataFrame.\n",
      "Try using .loc[row_indexer,col_indexer] = value instead\n",
      "\n",
      "See the caveats in the documentation: https://pandas.pydata.org/pandas-docs/stable/user_guide/indexing.html#returning-a-view-versus-a-copy\n",
      "  df[columns[_]+'*'+columns[__]] = df[columns[_]] * df[columns[__]]\n",
      "C:\\Temp\\ipykernel_14184\\3796706222.py:11: SettingWithCopyWarning: \n",
      "A value is trying to be set on a copy of a slice from a DataFrame.\n",
      "Try using .loc[row_indexer,col_indexer] = value instead\n",
      "\n",
      "See the caveats in the documentation: https://pandas.pydata.org/pandas-docs/stable/user_guide/indexing.html#returning-a-view-versus-a-copy\n",
      "  df[columns[_]+'*'+columns[__]] = df[columns[_]] * df[columns[__]]\n",
      "C:\\Temp\\ipykernel_14184\\3796706222.py:11: SettingWithCopyWarning: \n",
      "A value is trying to be set on a copy of a slice from a DataFrame.\n",
      "Try using .loc[row_indexer,col_indexer] = value instead\n",
      "\n",
      "See the caveats in the documentation: https://pandas.pydata.org/pandas-docs/stable/user_guide/indexing.html#returning-a-view-versus-a-copy\n",
      "  df[columns[_]+'*'+columns[__]] = df[columns[_]] * df[columns[__]]\n",
      "C:\\Temp\\ipykernel_14184\\3796706222.py:11: SettingWithCopyWarning: \n",
      "A value is trying to be set on a copy of a slice from a DataFrame.\n",
      "Try using .loc[row_indexer,col_indexer] = value instead\n",
      "\n",
      "See the caveats in the documentation: https://pandas.pydata.org/pandas-docs/stable/user_guide/indexing.html#returning-a-view-versus-a-copy\n",
      "  df[columns[_]+'*'+columns[__]] = df[columns[_]] * df[columns[__]]\n",
      "C:\\Temp\\ipykernel_14184\\3796706222.py:11: SettingWithCopyWarning: \n",
      "A value is trying to be set on a copy of a slice from a DataFrame.\n",
      "Try using .loc[row_indexer,col_indexer] = value instead\n",
      "\n",
      "See the caveats in the documentation: https://pandas.pydata.org/pandas-docs/stable/user_guide/indexing.html#returning-a-view-versus-a-copy\n",
      "  df[columns[_]+'*'+columns[__]] = df[columns[_]] * df[columns[__]]\n",
      "C:\\Temp\\ipykernel_14184\\3796706222.py:11: SettingWithCopyWarning: \n",
      "A value is trying to be set on a copy of a slice from a DataFrame.\n",
      "Try using .loc[row_indexer,col_indexer] = value instead\n",
      "\n",
      "See the caveats in the documentation: https://pandas.pydata.org/pandas-docs/stable/user_guide/indexing.html#returning-a-view-versus-a-copy\n",
      "  df[columns[_]+'*'+columns[__]] = df[columns[_]] * df[columns[__]]\n",
      "C:\\Temp\\ipykernel_14184\\3796706222.py:11: SettingWithCopyWarning: \n",
      "A value is trying to be set on a copy of a slice from a DataFrame.\n",
      "Try using .loc[row_indexer,col_indexer] = value instead\n",
      "\n",
      "See the caveats in the documentation: https://pandas.pydata.org/pandas-docs/stable/user_guide/indexing.html#returning-a-view-versus-a-copy\n",
      "  df[columns[_]+'*'+columns[__]] = df[columns[_]] * df[columns[__]]\n",
      "C:\\Temp\\ipykernel_14184\\3796706222.py:11: SettingWithCopyWarning: \n",
      "A value is trying to be set on a copy of a slice from a DataFrame.\n",
      "Try using .loc[row_indexer,col_indexer] = value instead\n",
      "\n",
      "See the caveats in the documentation: https://pandas.pydata.org/pandas-docs/stable/user_guide/indexing.html#returning-a-view-versus-a-copy\n",
      "  df[columns[_]+'*'+columns[__]] = df[columns[_]] * df[columns[__]]\n",
      "C:\\Temp\\ipykernel_14184\\3796706222.py:11: SettingWithCopyWarning: \n",
      "A value is trying to be set on a copy of a slice from a DataFrame.\n",
      "Try using .loc[row_indexer,col_indexer] = value instead\n",
      "\n",
      "See the caveats in the documentation: https://pandas.pydata.org/pandas-docs/stable/user_guide/indexing.html#returning-a-view-versus-a-copy\n",
      "  df[columns[_]+'*'+columns[__]] = df[columns[_]] * df[columns[__]]\n",
      "C:\\Temp\\ipykernel_14184\\3796706222.py:11: SettingWithCopyWarning: \n",
      "A value is trying to be set on a copy of a slice from a DataFrame.\n",
      "Try using .loc[row_indexer,col_indexer] = value instead\n",
      "\n",
      "See the caveats in the documentation: https://pandas.pydata.org/pandas-docs/stable/user_guide/indexing.html#returning-a-view-versus-a-copy\n",
      "  df[columns[_]+'*'+columns[__]] = df[columns[_]] * df[columns[__]]\n",
      "C:\\Temp\\ipykernel_14184\\3796706222.py:11: SettingWithCopyWarning: \n",
      "A value is trying to be set on a copy of a slice from a DataFrame.\n",
      "Try using .loc[row_indexer,col_indexer] = value instead\n",
      "\n",
      "See the caveats in the documentation: https://pandas.pydata.org/pandas-docs/stable/user_guide/indexing.html#returning-a-view-versus-a-copy\n",
      "  df[columns[_]+'*'+columns[__]] = df[columns[_]] * df[columns[__]]\n",
      "C:\\Temp\\ipykernel_14184\\3796706222.py:11: SettingWithCopyWarning: \n",
      "A value is trying to be set on a copy of a slice from a DataFrame.\n",
      "Try using .loc[row_indexer,col_indexer] = value instead\n",
      "\n",
      "See the caveats in the documentation: https://pandas.pydata.org/pandas-docs/stable/user_guide/indexing.html#returning-a-view-versus-a-copy\n",
      "  df[columns[_]+'*'+columns[__]] = df[columns[_]] * df[columns[__]]\n",
      "C:\\Temp\\ipykernel_14184\\3796706222.py:11: SettingWithCopyWarning: \n",
      "A value is trying to be set on a copy of a slice from a DataFrame.\n",
      "Try using .loc[row_indexer,col_indexer] = value instead\n",
      "\n",
      "See the caveats in the documentation: https://pandas.pydata.org/pandas-docs/stable/user_guide/indexing.html#returning-a-view-versus-a-copy\n",
      "  df[columns[_]+'*'+columns[__]] = df[columns[_]] * df[columns[__]]\n",
      "C:\\Temp\\ipykernel_14184\\3796706222.py:11: SettingWithCopyWarning: \n",
      "A value is trying to be set on a copy of a slice from a DataFrame.\n",
      "Try using .loc[row_indexer,col_indexer] = value instead\n",
      "\n",
      "See the caveats in the documentation: https://pandas.pydata.org/pandas-docs/stable/user_guide/indexing.html#returning-a-view-versus-a-copy\n",
      "  df[columns[_]+'*'+columns[__]] = df[columns[_]] * df[columns[__]]\n",
      "C:\\Temp\\ipykernel_14184\\3796706222.py:11: PerformanceWarning: DataFrame is highly fragmented.  This is usually the result of calling `frame.insert` many times, which has poor performance.  Consider joining all columns at once using pd.concat(axis=1) instead. To get a de-fragmented frame, use `newframe = frame.copy()`\n",
      "  df[columns[_]+'*'+columns[__]] = df[columns[_]] * df[columns[__]]\n",
      "C:\\Temp\\ipykernel_14184\\3796706222.py:11: SettingWithCopyWarning: \n",
      "A value is trying to be set on a copy of a slice from a DataFrame.\n",
      "Try using .loc[row_indexer,col_indexer] = value instead\n",
      "\n",
      "See the caveats in the documentation: https://pandas.pydata.org/pandas-docs/stable/user_guide/indexing.html#returning-a-view-versus-a-copy\n",
      "  df[columns[_]+'*'+columns[__]] = df[columns[_]] * df[columns[__]]\n",
      "C:\\Temp\\ipykernel_14184\\3796706222.py:11: PerformanceWarning: DataFrame is highly fragmented.  This is usually the result of calling `frame.insert` many times, which has poor performance.  Consider joining all columns at once using pd.concat(axis=1) instead. To get a de-fragmented frame, use `newframe = frame.copy()`\n",
      "  df[columns[_]+'*'+columns[__]] = df[columns[_]] * df[columns[__]]\n",
      "C:\\Temp\\ipykernel_14184\\3796706222.py:11: SettingWithCopyWarning: \n",
      "A value is trying to be set on a copy of a slice from a DataFrame.\n",
      "Try using .loc[row_indexer,col_indexer] = value instead\n",
      "\n",
      "See the caveats in the documentation: https://pandas.pydata.org/pandas-docs/stable/user_guide/indexing.html#returning-a-view-versus-a-copy\n",
      "  df[columns[_]+'*'+columns[__]] = df[columns[_]] * df[columns[__]]\n",
      "C:\\Temp\\ipykernel_14184\\3796706222.py:11: PerformanceWarning: DataFrame is highly fragmented.  This is usually the result of calling `frame.insert` many times, which has poor performance.  Consider joining all columns at once using pd.concat(axis=1) instead. To get a de-fragmented frame, use `newframe = frame.copy()`\n",
      "  df[columns[_]+'*'+columns[__]] = df[columns[_]] * df[columns[__]]\n",
      "C:\\Temp\\ipykernel_14184\\3796706222.py:11: SettingWithCopyWarning: \n",
      "A value is trying to be set on a copy of a slice from a DataFrame.\n",
      "Try using .loc[row_indexer,col_indexer] = value instead\n",
      "\n",
      "See the caveats in the documentation: https://pandas.pydata.org/pandas-docs/stable/user_guide/indexing.html#returning-a-view-versus-a-copy\n",
      "  df[columns[_]+'*'+columns[__]] = df[columns[_]] * df[columns[__]]\n",
      "C:\\Temp\\ipykernel_14184\\3796706222.py:11: PerformanceWarning: DataFrame is highly fragmented.  This is usually the result of calling `frame.insert` many times, which has poor performance.  Consider joining all columns at once using pd.concat(axis=1) instead. To get a de-fragmented frame, use `newframe = frame.copy()`\n",
      "  df[columns[_]+'*'+columns[__]] = df[columns[_]] * df[columns[__]]\n",
      "C:\\Temp\\ipykernel_14184\\3796706222.py:11: SettingWithCopyWarning: \n",
      "A value is trying to be set on a copy of a slice from a DataFrame.\n",
      "Try using .loc[row_indexer,col_indexer] = value instead\n",
      "\n",
      "See the caveats in the documentation: https://pandas.pydata.org/pandas-docs/stable/user_guide/indexing.html#returning-a-view-versus-a-copy\n",
      "  df[columns[_]+'*'+columns[__]] = df[columns[_]] * df[columns[__]]\n",
      "C:\\Temp\\ipykernel_14184\\3796706222.py:11: PerformanceWarning: DataFrame is highly fragmented.  This is usually the result of calling `frame.insert` many times, which has poor performance.  Consider joining all columns at once using pd.concat(axis=1) instead. To get a de-fragmented frame, use `newframe = frame.copy()`\n",
      "  df[columns[_]+'*'+columns[__]] = df[columns[_]] * df[columns[__]]\n",
      "C:\\Temp\\ipykernel_14184\\3796706222.py:11: SettingWithCopyWarning: \n",
      "A value is trying to be set on a copy of a slice from a DataFrame.\n",
      "Try using .loc[row_indexer,col_indexer] = value instead\n",
      "\n",
      "See the caveats in the documentation: https://pandas.pydata.org/pandas-docs/stable/user_guide/indexing.html#returning-a-view-versus-a-copy\n",
      "  df[columns[_]+'*'+columns[__]] = df[columns[_]] * df[columns[__]]\n",
      "C:\\Temp\\ipykernel_14184\\3796706222.py:11: PerformanceWarning: DataFrame is highly fragmented.  This is usually the result of calling `frame.insert` many times, which has poor performance.  Consider joining all columns at once using pd.concat(axis=1) instead. To get a de-fragmented frame, use `newframe = frame.copy()`\n",
      "  df[columns[_]+'*'+columns[__]] = df[columns[_]] * df[columns[__]]\n",
      "C:\\Temp\\ipykernel_14184\\3796706222.py:11: SettingWithCopyWarning: \n",
      "A value is trying to be set on a copy of a slice from a DataFrame.\n",
      "Try using .loc[row_indexer,col_indexer] = value instead\n",
      "\n",
      "See the caveats in the documentation: https://pandas.pydata.org/pandas-docs/stable/user_guide/indexing.html#returning-a-view-versus-a-copy\n",
      "  df[columns[_]+'*'+columns[__]] = df[columns[_]] * df[columns[__]]\n",
      "C:\\Temp\\ipykernel_14184\\3796706222.py:11: PerformanceWarning: DataFrame is highly fragmented.  This is usually the result of calling `frame.insert` many times, which has poor performance.  Consider joining all columns at once using pd.concat(axis=1) instead. To get a de-fragmented frame, use `newframe = frame.copy()`\n",
      "  df[columns[_]+'*'+columns[__]] = df[columns[_]] * df[columns[__]]\n",
      "C:\\Temp\\ipykernel_14184\\3796706222.py:11: SettingWithCopyWarning: \n",
      "A value is trying to be set on a copy of a slice from a DataFrame.\n",
      "Try using .loc[row_indexer,col_indexer] = value instead\n",
      "\n",
      "See the caveats in the documentation: https://pandas.pydata.org/pandas-docs/stable/user_guide/indexing.html#returning-a-view-versus-a-copy\n",
      "  df[columns[_]+'*'+columns[__]] = df[columns[_]] * df[columns[__]]\n",
      "C:\\Temp\\ipykernel_14184\\3796706222.py:11: PerformanceWarning: DataFrame is highly fragmented.  This is usually the result of calling `frame.insert` many times, which has poor performance.  Consider joining all columns at once using pd.concat(axis=1) instead. To get a de-fragmented frame, use `newframe = frame.copy()`\n",
      "  df[columns[_]+'*'+columns[__]] = df[columns[_]] * df[columns[__]]\n",
      "C:\\Temp\\ipykernel_14184\\3796706222.py:11: SettingWithCopyWarning: \n",
      "A value is trying to be set on a copy of a slice from a DataFrame.\n",
      "Try using .loc[row_indexer,col_indexer] = value instead\n",
      "\n",
      "See the caveats in the documentation: https://pandas.pydata.org/pandas-docs/stable/user_guide/indexing.html#returning-a-view-versus-a-copy\n",
      "  df[columns[_]+'*'+columns[__]] = df[columns[_]] * df[columns[__]]\n",
      "C:\\Temp\\ipykernel_14184\\3796706222.py:11: PerformanceWarning: DataFrame is highly fragmented.  This is usually the result of calling `frame.insert` many times, which has poor performance.  Consider joining all columns at once using pd.concat(axis=1) instead. To get a de-fragmented frame, use `newframe = frame.copy()`\n",
      "  df[columns[_]+'*'+columns[__]] = df[columns[_]] * df[columns[__]]\n",
      "C:\\Temp\\ipykernel_14184\\3796706222.py:11: SettingWithCopyWarning: \n",
      "A value is trying to be set on a copy of a slice from a DataFrame.\n",
      "Try using .loc[row_indexer,col_indexer] = value instead\n",
      "\n",
      "See the caveats in the documentation: https://pandas.pydata.org/pandas-docs/stable/user_guide/indexing.html#returning-a-view-versus-a-copy\n",
      "  df[columns[_]+'*'+columns[__]] = df[columns[_]] * df[columns[__]]\n",
      "C:\\Temp\\ipykernel_14184\\3796706222.py:11: PerformanceWarning: DataFrame is highly fragmented.  This is usually the result of calling `frame.insert` many times, which has poor performance.  Consider joining all columns at once using pd.concat(axis=1) instead. To get a de-fragmented frame, use `newframe = frame.copy()`\n",
      "  df[columns[_]+'*'+columns[__]] = df[columns[_]] * df[columns[__]]\n",
      "C:\\Temp\\ipykernel_14184\\3796706222.py:11: SettingWithCopyWarning: \n",
      "A value is trying to be set on a copy of a slice from a DataFrame.\n",
      "Try using .loc[row_indexer,col_indexer] = value instead\n",
      "\n",
      "See the caveats in the documentation: https://pandas.pydata.org/pandas-docs/stable/user_guide/indexing.html#returning-a-view-versus-a-copy\n",
      "  df[columns[_]+'*'+columns[__]] = df[columns[_]] * df[columns[__]]\n",
      "C:\\Temp\\ipykernel_14184\\3796706222.py:11: PerformanceWarning: DataFrame is highly fragmented.  This is usually the result of calling `frame.insert` many times, which has poor performance.  Consider joining all columns at once using pd.concat(axis=1) instead. To get a de-fragmented frame, use `newframe = frame.copy()`\n",
      "  df[columns[_]+'*'+columns[__]] = df[columns[_]] * df[columns[__]]\n",
      "C:\\Temp\\ipykernel_14184\\3796706222.py:11: SettingWithCopyWarning: \n",
      "A value is trying to be set on a copy of a slice from a DataFrame.\n",
      "Try using .loc[row_indexer,col_indexer] = value instead\n",
      "\n",
      "See the caveats in the documentation: https://pandas.pydata.org/pandas-docs/stable/user_guide/indexing.html#returning-a-view-versus-a-copy\n",
      "  df[columns[_]+'*'+columns[__]] = df[columns[_]] * df[columns[__]]\n",
      "C:\\Temp\\ipykernel_14184\\3796706222.py:11: PerformanceWarning: DataFrame is highly fragmented.  This is usually the result of calling `frame.insert` many times, which has poor performance.  Consider joining all columns at once using pd.concat(axis=1) instead. To get a de-fragmented frame, use `newframe = frame.copy()`\n",
      "  df[columns[_]+'*'+columns[__]] = df[columns[_]] * df[columns[__]]\n",
      "C:\\Temp\\ipykernel_14184\\3796706222.py:11: SettingWithCopyWarning: \n",
      "A value is trying to be set on a copy of a slice from a DataFrame.\n",
      "Try using .loc[row_indexer,col_indexer] = value instead\n",
      "\n",
      "See the caveats in the documentation: https://pandas.pydata.org/pandas-docs/stable/user_guide/indexing.html#returning-a-view-versus-a-copy\n",
      "  df[columns[_]+'*'+columns[__]] = df[columns[_]] * df[columns[__]]\n",
      "C:\\Temp\\ipykernel_14184\\3796706222.py:11: PerformanceWarning: DataFrame is highly fragmented.  This is usually the result of calling `frame.insert` many times, which has poor performance.  Consider joining all columns at once using pd.concat(axis=1) instead. To get a de-fragmented frame, use `newframe = frame.copy()`\n",
      "  df[columns[_]+'*'+columns[__]] = df[columns[_]] * df[columns[__]]\n",
      "C:\\Temp\\ipykernel_14184\\3796706222.py:11: SettingWithCopyWarning: \n",
      "A value is trying to be set on a copy of a slice from a DataFrame.\n",
      "Try using .loc[row_indexer,col_indexer] = value instead\n",
      "\n",
      "See the caveats in the documentation: https://pandas.pydata.org/pandas-docs/stable/user_guide/indexing.html#returning-a-view-versus-a-copy\n",
      "  df[columns[_]+'*'+columns[__]] = df[columns[_]] * df[columns[__]]\n",
      "C:\\Users\\Костя\\feature_selector\\feature_selector.py:223: FutureWarning: The frame.append method is deprecated and will be removed from pandas in a future version. Use pandas.concat instead.\n",
      "  record_collinear = record_collinear.append(temp_df, ignore_index = True)\n",
      "C:\\Users\\Костя\\feature_selector\\feature_selector.py:223: FutureWarning: The frame.append method is deprecated and will be removed from pandas in a future version. Use pandas.concat instead.\n",
      "  record_collinear = record_collinear.append(temp_df, ignore_index = True)\n",
      "C:\\Users\\Костя\\feature_selector\\feature_selector.py:223: FutureWarning: The frame.append method is deprecated and will be removed from pandas in a future version. Use pandas.concat instead.\n",
      "  record_collinear = record_collinear.append(temp_df, ignore_index = True)\n",
      "C:\\Users\\Костя\\feature_selector\\feature_selector.py:223: FutureWarning: The frame.append method is deprecated and will be removed from pandas in a future version. Use pandas.concat instead.\n",
      "  record_collinear = record_collinear.append(temp_df, ignore_index = True)\n",
      "C:\\Users\\Костя\\feature_selector\\feature_selector.py:223: FutureWarning: The frame.append method is deprecated and will be removed from pandas in a future version. Use pandas.concat instead.\n",
      "  record_collinear = record_collinear.append(temp_df, ignore_index = True)\n",
      "C:\\Users\\Костя\\feature_selector\\feature_selector.py:223: FutureWarning: The frame.append method is deprecated and will be removed from pandas in a future version. Use pandas.concat instead.\n",
      "  record_collinear = record_collinear.append(temp_df, ignore_index = True)\n",
      "C:\\Users\\Костя\\feature_selector\\feature_selector.py:223: FutureWarning: The frame.append method is deprecated and will be removed from pandas in a future version. Use pandas.concat instead.\n",
      "  record_collinear = record_collinear.append(temp_df, ignore_index = True)\n",
      "C:\\Users\\Костя\\feature_selector\\feature_selector.py:223: FutureWarning: The frame.append method is deprecated and will be removed from pandas in a future version. Use pandas.concat instead.\n",
      "  record_collinear = record_collinear.append(temp_df, ignore_index = True)\n",
      "C:\\Users\\Костя\\feature_selector\\feature_selector.py:223: FutureWarning: The frame.append method is deprecated and will be removed from pandas in a future version. Use pandas.concat instead.\n",
      "  record_collinear = record_collinear.append(temp_df, ignore_index = True)\n",
      "C:\\Users\\Костя\\feature_selector\\feature_selector.py:223: FutureWarning: The frame.append method is deprecated and will be removed from pandas in a future version. Use pandas.concat instead.\n",
      "  record_collinear = record_collinear.append(temp_df, ignore_index = True)\n",
      "C:\\Users\\Костя\\feature_selector\\feature_selector.py:223: FutureWarning: The frame.append method is deprecated and will be removed from pandas in a future version. Use pandas.concat instead.\n",
      "  record_collinear = record_collinear.append(temp_df, ignore_index = True)\n",
      "C:\\Users\\Костя\\feature_selector\\feature_selector.py:223: FutureWarning: The frame.append method is deprecated and will be removed from pandas in a future version. Use pandas.concat instead.\n",
      "  record_collinear = record_collinear.append(temp_df, ignore_index = True)\n",
      "C:\\Users\\Костя\\feature_selector\\feature_selector.py:223: FutureWarning: The frame.append method is deprecated and will be removed from pandas in a future version. Use pandas.concat instead.\n",
      "  record_collinear = record_collinear.append(temp_df, ignore_index = True)\n",
      "C:\\Users\\Костя\\feature_selector\\feature_selector.py:223: FutureWarning: The frame.append method is deprecated and will be removed from pandas in a future version. Use pandas.concat instead.\n",
      "  record_collinear = record_collinear.append(temp_df, ignore_index = True)\n",
      "C:\\Users\\Костя\\feature_selector\\feature_selector.py:223: FutureWarning: The frame.append method is deprecated and will be removed from pandas in a future version. Use pandas.concat instead.\n",
      "  record_collinear = record_collinear.append(temp_df, ignore_index = True)\n",
      "C:\\Users\\Костя\\feature_selector\\feature_selector.py:223: FutureWarning: The frame.append method is deprecated and will be removed from pandas in a future version. Use pandas.concat instead.\n",
      "  record_collinear = record_collinear.append(temp_df, ignore_index = True)\n",
      "C:\\Users\\Костя\\feature_selector\\feature_selector.py:223: FutureWarning: The frame.append method is deprecated and will be removed from pandas in a future version. Use pandas.concat instead.\n",
      "  record_collinear = record_collinear.append(temp_df, ignore_index = True)\n",
      "C:\\Users\\Костя\\feature_selector\\feature_selector.py:223: FutureWarning: The frame.append method is deprecated and will be removed from pandas in a future version. Use pandas.concat instead.\n",
      "  record_collinear = record_collinear.append(temp_df, ignore_index = True)\n",
      "C:\\Users\\Костя\\feature_selector\\feature_selector.py:223: FutureWarning: The frame.append method is deprecated and will be removed from pandas in a future version. Use pandas.concat instead.\n",
      "  record_collinear = record_collinear.append(temp_df, ignore_index = True)\n",
      "C:\\Users\\Костя\\feature_selector\\feature_selector.py:223: FutureWarning: The frame.append method is deprecated and will be removed from pandas in a future version. Use pandas.concat instead.\n",
      "  record_collinear = record_collinear.append(temp_df, ignore_index = True)\n",
      "C:\\Users\\Костя\\feature_selector\\feature_selector.py:223: FutureWarning: The frame.append method is deprecated and will be removed from pandas in a future version. Use pandas.concat instead.\n",
      "  record_collinear = record_collinear.append(temp_df, ignore_index = True)\n",
      "C:\\Users\\Костя\\feature_selector\\feature_selector.py:223: FutureWarning: The frame.append method is deprecated and will be removed from pandas in a future version. Use pandas.concat instead.\n",
      "  record_collinear = record_collinear.append(temp_df, ignore_index = True)\n",
      "C:\\Users\\Костя\\feature_selector\\feature_selector.py:223: FutureWarning: The frame.append method is deprecated and will be removed from pandas in a future version. Use pandas.concat instead.\n",
      "  record_collinear = record_collinear.append(temp_df, ignore_index = True)\n",
      "C:\\Users\\Костя\\feature_selector\\feature_selector.py:223: FutureWarning: The frame.append method is deprecated and will be removed from pandas in a future version. Use pandas.concat instead.\n",
      "  record_collinear = record_collinear.append(temp_df, ignore_index = True)\n",
      "C:\\Users\\Костя\\feature_selector\\feature_selector.py:223: FutureWarning: The frame.append method is deprecated and will be removed from pandas in a future version. Use pandas.concat instead.\n",
      "  record_collinear = record_collinear.append(temp_df, ignore_index = True)\n",
      "C:\\Users\\Костя\\feature_selector\\feature_selector.py:223: FutureWarning: The frame.append method is deprecated and will be removed from pandas in a future version. Use pandas.concat instead.\n",
      "  record_collinear = record_collinear.append(temp_df, ignore_index = True)\n",
      "C:\\Users\\Костя\\feature_selector\\feature_selector.py:223: FutureWarning: The frame.append method is deprecated and will be removed from pandas in a future version. Use pandas.concat instead.\n",
      "  record_collinear = record_collinear.append(temp_df, ignore_index = True)\n",
      "C:\\Users\\Костя\\feature_selector\\feature_selector.py:223: FutureWarning: The frame.append method is deprecated and will be removed from pandas in a future version. Use pandas.concat instead.\n",
      "  record_collinear = record_collinear.append(temp_df, ignore_index = True)\n",
      "C:\\Users\\Костя\\feature_selector\\feature_selector.py:223: FutureWarning: The frame.append method is deprecated and will be removed from pandas in a future version. Use pandas.concat instead.\n",
      "  record_collinear = record_collinear.append(temp_df, ignore_index = True)\n",
      "C:\\Users\\Костя\\feature_selector\\feature_selector.py:223: FutureWarning: The frame.append method is deprecated and will be removed from pandas in a future version. Use pandas.concat instead.\n",
      "  record_collinear = record_collinear.append(temp_df, ignore_index = True)\n",
      "C:\\Users\\Костя\\feature_selector\\feature_selector.py:223: FutureWarning: The frame.append method is deprecated and will be removed from pandas in a future version. Use pandas.concat instead.\n",
      "  record_collinear = record_collinear.append(temp_df, ignore_index = True)\n",
      "C:\\Users\\Костя\\feature_selector\\feature_selector.py:223: FutureWarning: The frame.append method is deprecated and will be removed from pandas in a future version. Use pandas.concat instead.\n",
      "  record_collinear = record_collinear.append(temp_df, ignore_index = True)\n",
      "C:\\Users\\Костя\\feature_selector\\feature_selector.py:223: FutureWarning: The frame.append method is deprecated and will be removed from pandas in a future version. Use pandas.concat instead.\n",
      "  record_collinear = record_collinear.append(temp_df, ignore_index = True)\n",
      "C:\\Users\\Костя\\feature_selector\\feature_selector.py:223: FutureWarning: The frame.append method is deprecated and will be removed from pandas in a future version. Use pandas.concat instead.\n",
      "  record_collinear = record_collinear.append(temp_df, ignore_index = True)\n",
      "C:\\Users\\Костя\\feature_selector\\feature_selector.py:223: FutureWarning: The frame.append method is deprecated and will be removed from pandas in a future version. Use pandas.concat instead.\n",
      "  record_collinear = record_collinear.append(temp_df, ignore_index = True)\n",
      "C:\\Users\\Костя\\feature_selector\\feature_selector.py:223: FutureWarning: The frame.append method is deprecated and will be removed from pandas in a future version. Use pandas.concat instead.\n",
      "  record_collinear = record_collinear.append(temp_df, ignore_index = True)\n",
      "C:\\Users\\Костя\\feature_selector\\feature_selector.py:223: FutureWarning: The frame.append method is deprecated and will be removed from pandas in a future version. Use pandas.concat instead.\n",
      "  record_collinear = record_collinear.append(temp_df, ignore_index = True)\n",
      "C:\\Users\\Костя\\feature_selector\\feature_selector.py:223: FutureWarning: The frame.append method is deprecated and will be removed from pandas in a future version. Use pandas.concat instead.\n",
      "  record_collinear = record_collinear.append(temp_df, ignore_index = True)\n",
      "C:\\Users\\Костя\\feature_selector\\feature_selector.py:223: FutureWarning: The frame.append method is deprecated and will be removed from pandas in a future version. Use pandas.concat instead.\n",
      "  record_collinear = record_collinear.append(temp_df, ignore_index = True)\n",
      "C:\\Users\\Костя\\feature_selector\\feature_selector.py:223: FutureWarning: The frame.append method is deprecated and will be removed from pandas in a future version. Use pandas.concat instead.\n",
      "  record_collinear = record_collinear.append(temp_df, ignore_index = True)\n",
      "C:\\Users\\Костя\\feature_selector\\feature_selector.py:223: FutureWarning: The frame.append method is deprecated and will be removed from pandas in a future version. Use pandas.concat instead.\n",
      "  record_collinear = record_collinear.append(temp_df, ignore_index = True)\n",
      "C:\\Users\\Костя\\feature_selector\\feature_selector.py:223: FutureWarning: The frame.append method is deprecated and will be removed from pandas in a future version. Use pandas.concat instead.\n",
      "  record_collinear = record_collinear.append(temp_df, ignore_index = True)\n",
      "C:\\Users\\Костя\\feature_selector\\feature_selector.py:223: FutureWarning: The frame.append method is deprecated and will be removed from pandas in a future version. Use pandas.concat instead.\n",
      "  record_collinear = record_collinear.append(temp_df, ignore_index = True)\n",
      "C:\\Users\\Костя\\feature_selector\\feature_selector.py:223: FutureWarning: The frame.append method is deprecated and will be removed from pandas in a future version. Use pandas.concat instead.\n",
      "  record_collinear = record_collinear.append(temp_df, ignore_index = True)\n",
      "C:\\Users\\Костя\\feature_selector\\feature_selector.py:223: FutureWarning: The frame.append method is deprecated and will be removed from pandas in a future version. Use pandas.concat instead.\n",
      "  record_collinear = record_collinear.append(temp_df, ignore_index = True)\n",
      "C:\\Users\\Костя\\feature_selector\\feature_selector.py:223: FutureWarning: The frame.append method is deprecated and will be removed from pandas in a future version. Use pandas.concat instead.\n",
      "  record_collinear = record_collinear.append(temp_df, ignore_index = True)\n",
      "C:\\Users\\Костя\\feature_selector\\feature_selector.py:223: FutureWarning: The frame.append method is deprecated and will be removed from pandas in a future version. Use pandas.concat instead.\n",
      "  record_collinear = record_collinear.append(temp_df, ignore_index = True)\n",
      "C:\\Users\\Костя\\feature_selector\\feature_selector.py:223: FutureWarning: The frame.append method is deprecated and will be removed from pandas in a future version. Use pandas.concat instead.\n",
      "  record_collinear = record_collinear.append(temp_df, ignore_index = True)\n",
      "C:\\Users\\Костя\\feature_selector\\feature_selector.py:223: FutureWarning: The frame.append method is deprecated and will be removed from pandas in a future version. Use pandas.concat instead.\n",
      "  record_collinear = record_collinear.append(temp_df, ignore_index = True)\n",
      "C:\\Users\\Костя\\feature_selector\\feature_selector.py:223: FutureWarning: The frame.append method is deprecated and will be removed from pandas in a future version. Use pandas.concat instead.\n",
      "  record_collinear = record_collinear.append(temp_df, ignore_index = True)\n",
      "C:\\Users\\Костя\\feature_selector\\feature_selector.py:223: FutureWarning: The frame.append method is deprecated and will be removed from pandas in a future version. Use pandas.concat instead.\n",
      "  record_collinear = record_collinear.append(temp_df, ignore_index = True)\n",
      "C:\\Users\\Костя\\feature_selector\\feature_selector.py:223: FutureWarning: The frame.append method is deprecated and will be removed from pandas in a future version. Use pandas.concat instead.\n",
      "  record_collinear = record_collinear.append(temp_df, ignore_index = True)\n",
      "C:\\Users\\Костя\\feature_selector\\feature_selector.py:223: FutureWarning: The frame.append method is deprecated and will be removed from pandas in a future version. Use pandas.concat instead.\n",
      "  record_collinear = record_collinear.append(temp_df, ignore_index = True)\n",
      "C:\\Users\\Костя\\feature_selector\\feature_selector.py:223: FutureWarning: The frame.append method is deprecated and will be removed from pandas in a future version. Use pandas.concat instead.\n",
      "  record_collinear = record_collinear.append(temp_df, ignore_index = True)\n",
      "C:\\Users\\Костя\\feature_selector\\feature_selector.py:223: FutureWarning: The frame.append method is deprecated and will be removed from pandas in a future version. Use pandas.concat instead.\n",
      "  record_collinear = record_collinear.append(temp_df, ignore_index = True)\n",
      "C:\\Users\\Костя\\feature_selector\\feature_selector.py:223: FutureWarning: The frame.append method is deprecated and will be removed from pandas in a future version. Use pandas.concat instead.\n",
      "  record_collinear = record_collinear.append(temp_df, ignore_index = True)\n",
      "C:\\Users\\Костя\\feature_selector\\feature_selector.py:223: FutureWarning: The frame.append method is deprecated and will be removed from pandas in a future version. Use pandas.concat instead.\n",
      "  record_collinear = record_collinear.append(temp_df, ignore_index = True)\n",
      "C:\\Users\\Костя\\feature_selector\\feature_selector.py:223: FutureWarning: The frame.append method is deprecated and will be removed from pandas in a future version. Use pandas.concat instead.\n",
      "  record_collinear = record_collinear.append(temp_df, ignore_index = True)\n",
      "C:\\Users\\Костя\\feature_selector\\feature_selector.py:223: FutureWarning: The frame.append method is deprecated and will be removed from pandas in a future version. Use pandas.concat instead.\n",
      "  record_collinear = record_collinear.append(temp_df, ignore_index = True)\n",
      "C:\\Users\\Костя\\feature_selector\\feature_selector.py:223: FutureWarning: The frame.append method is deprecated and will be removed from pandas in a future version. Use pandas.concat instead.\n",
      "  record_collinear = record_collinear.append(temp_df, ignore_index = True)\n",
      "C:\\Users\\Костя\\feature_selector\\feature_selector.py:223: FutureWarning: The frame.append method is deprecated and will be removed from pandas in a future version. Use pandas.concat instead.\n",
      "  record_collinear = record_collinear.append(temp_df, ignore_index = True)\n",
      "C:\\Users\\Костя\\feature_selector\\feature_selector.py:223: FutureWarning: The frame.append method is deprecated and will be removed from pandas in a future version. Use pandas.concat instead.\n",
      "  record_collinear = record_collinear.append(temp_df, ignore_index = True)\n",
      "C:\\Users\\Костя\\feature_selector\\feature_selector.py:223: FutureWarning: The frame.append method is deprecated and will be removed from pandas in a future version. Use pandas.concat instead.\n",
      "  record_collinear = record_collinear.append(temp_df, ignore_index = True)\n",
      "C:\\Users\\Костя\\feature_selector\\feature_selector.py:223: FutureWarning: The frame.append method is deprecated and will be removed from pandas in a future version. Use pandas.concat instead.\n",
      "  record_collinear = record_collinear.append(temp_df, ignore_index = True)\n",
      "C:\\Users\\Костя\\feature_selector\\feature_selector.py:223: FutureWarning: The frame.append method is deprecated and will be removed from pandas in a future version. Use pandas.concat instead.\n",
      "  record_collinear = record_collinear.append(temp_df, ignore_index = True)\n",
      "C:\\Users\\Костя\\feature_selector\\feature_selector.py:223: FutureWarning: The frame.append method is deprecated and will be removed from pandas in a future version. Use pandas.concat instead.\n",
      "  record_collinear = record_collinear.append(temp_df, ignore_index = True)\n",
      "C:\\ProgramData\\anaconda3\\envs\\FakeReviewTorch\\lib\\site-packages\\lightgbm\\sklearn.py:726: UserWarning: 'early_stopping_rounds' argument is deprecated and will be removed in a future release of LightGBM. Pass 'early_stopping()' callback via 'callbacks' argument instead.\n",
      "  _log_warning(\"'early_stopping_rounds' argument is deprecated and will be removed in a future release of LightGBM. \"\n",
      "C:\\ProgramData\\anaconda3\\envs\\FakeReviewTorch\\lib\\site-packages\\lightgbm\\sklearn.py:736: UserWarning: 'verbose' argument is deprecated and will be removed in a future release of LightGBM. Pass 'log_evaluation()' callback via 'callbacks' argument instead.\n",
      "  _log_warning(\"'verbose' argument is deprecated and will be removed in a future release of LightGBM. \"\n"
     ]
    },
    {
     "name": "stdout",
     "output_type": "stream",
     "text": [
      "66 features with a correlation magnitude greater than 0.98.\n",
      "\n",
      "Training Gradient Boosting Model\n",
      "\n"
     ]
    },
    {
     "name": "stderr",
     "output_type": "stream",
     "text": [
      "C:\\ProgramData\\anaconda3\\envs\\FakeReviewTorch\\lib\\site-packages\\lightgbm\\sklearn.py:726: UserWarning: 'early_stopping_rounds' argument is deprecated and will be removed in a future release of LightGBM. Pass 'early_stopping()' callback via 'callbacks' argument instead.\n",
      "  _log_warning(\"'early_stopping_rounds' argument is deprecated and will be removed in a future release of LightGBM. \"\n",
      "C:\\ProgramData\\anaconda3\\envs\\FakeReviewTorch\\lib\\site-packages\\lightgbm\\sklearn.py:736: UserWarning: 'verbose' argument is deprecated and will be removed in a future release of LightGBM. Pass 'log_evaluation()' callback via 'callbacks' argument instead.\n",
      "  _log_warning(\"'verbose' argument is deprecated and will be removed in a future release of LightGBM. \"\n",
      "C:\\ProgramData\\anaconda3\\envs\\FakeReviewTorch\\lib\\site-packages\\lightgbm\\sklearn.py:726: UserWarning: 'early_stopping_rounds' argument is deprecated and will be removed in a future release of LightGBM. Pass 'early_stopping()' callback via 'callbacks' argument instead.\n",
      "  _log_warning(\"'early_stopping_rounds' argument is deprecated and will be removed in a future release of LightGBM. \"\n",
      "C:\\ProgramData\\anaconda3\\envs\\FakeReviewTorch\\lib\\site-packages\\lightgbm\\sklearn.py:736: UserWarning: 'verbose' argument is deprecated and will be removed in a future release of LightGBM. Pass 'log_evaluation()' callback via 'callbacks' argument instead.\n",
      "  _log_warning(\"'verbose' argument is deprecated and will be removed in a future release of LightGBM. \"\n",
      "C:\\ProgramData\\anaconda3\\envs\\FakeReviewTorch\\lib\\site-packages\\lightgbm\\sklearn.py:726: UserWarning: 'early_stopping_rounds' argument is deprecated and will be removed in a future release of LightGBM. Pass 'early_stopping()' callback via 'callbacks' argument instead.\n",
      "  _log_warning(\"'early_stopping_rounds' argument is deprecated and will be removed in a future release of LightGBM. \"\n",
      "C:\\ProgramData\\anaconda3\\envs\\FakeReviewTorch\\lib\\site-packages\\lightgbm\\sklearn.py:736: UserWarning: 'verbose' argument is deprecated and will be removed in a future release of LightGBM. Pass 'log_evaluation()' callback via 'callbacks' argument instead.\n",
      "  _log_warning(\"'verbose' argument is deprecated and will be removed in a future release of LightGBM. \"\n",
      "C:\\ProgramData\\anaconda3\\envs\\FakeReviewTorch\\lib\\site-packages\\lightgbm\\sklearn.py:726: UserWarning: 'early_stopping_rounds' argument is deprecated and will be removed in a future release of LightGBM. Pass 'early_stopping()' callback via 'callbacks' argument instead.\n",
      "  _log_warning(\"'early_stopping_rounds' argument is deprecated and will be removed in a future release of LightGBM. \"\n",
      "C:\\ProgramData\\anaconda3\\envs\\FakeReviewTorch\\lib\\site-packages\\lightgbm\\sklearn.py:736: UserWarning: 'verbose' argument is deprecated and will be removed in a future release of LightGBM. Pass 'log_evaluation()' callback via 'callbacks' argument instead.\n",
      "  _log_warning(\"'verbose' argument is deprecated and will be removed in a future release of LightGBM. \"\n",
      "C:\\ProgramData\\anaconda3\\envs\\FakeReviewTorch\\lib\\site-packages\\lightgbm\\sklearn.py:726: UserWarning: 'early_stopping_rounds' argument is deprecated and will be removed in a future release of LightGBM. Pass 'early_stopping()' callback via 'callbacks' argument instead.\n",
      "  _log_warning(\"'early_stopping_rounds' argument is deprecated and will be removed in a future release of LightGBM. \"\n",
      "C:\\ProgramData\\anaconda3\\envs\\FakeReviewTorch\\lib\\site-packages\\lightgbm\\sklearn.py:736: UserWarning: 'verbose' argument is deprecated and will be removed in a future release of LightGBM. Pass 'log_evaluation()' callback via 'callbacks' argument instead.\n",
      "  _log_warning(\"'verbose' argument is deprecated and will be removed in a future release of LightGBM. \"\n",
      "C:\\ProgramData\\anaconda3\\envs\\FakeReviewTorch\\lib\\site-packages\\lightgbm\\sklearn.py:726: UserWarning: 'early_stopping_rounds' argument is deprecated and will be removed in a future release of LightGBM. Pass 'early_stopping()' callback via 'callbacks' argument instead.\n",
      "  _log_warning(\"'early_stopping_rounds' argument is deprecated and will be removed in a future release of LightGBM. \"\n",
      "C:\\ProgramData\\anaconda3\\envs\\FakeReviewTorch\\lib\\site-packages\\lightgbm\\sklearn.py:736: UserWarning: 'verbose' argument is deprecated and will be removed in a future release of LightGBM. Pass 'log_evaluation()' callback via 'callbacks' argument instead.\n",
      "  _log_warning(\"'verbose' argument is deprecated and will be removed in a future release of LightGBM. \"\n",
      "C:\\ProgramData\\anaconda3\\envs\\FakeReviewTorch\\lib\\site-packages\\lightgbm\\sklearn.py:726: UserWarning: 'early_stopping_rounds' argument is deprecated and will be removed in a future release of LightGBM. Pass 'early_stopping()' callback via 'callbacks' argument instead.\n",
      "  _log_warning(\"'early_stopping_rounds' argument is deprecated and will be removed in a future release of LightGBM. \"\n",
      "C:\\ProgramData\\anaconda3\\envs\\FakeReviewTorch\\lib\\site-packages\\lightgbm\\sklearn.py:736: UserWarning: 'verbose' argument is deprecated and will be removed in a future release of LightGBM. Pass 'log_evaluation()' callback via 'callbacks' argument instead.\n",
      "  _log_warning(\"'verbose' argument is deprecated and will be removed in a future release of LightGBM. \"\n",
      "C:\\ProgramData\\anaconda3\\envs\\FakeReviewTorch\\lib\\site-packages\\lightgbm\\sklearn.py:726: UserWarning: 'early_stopping_rounds' argument is deprecated and will be removed in a future release of LightGBM. Pass 'early_stopping()' callback via 'callbacks' argument instead.\n",
      "  _log_warning(\"'early_stopping_rounds' argument is deprecated and will be removed in a future release of LightGBM. \"\n",
      "C:\\ProgramData\\anaconda3\\envs\\FakeReviewTorch\\lib\\site-packages\\lightgbm\\sklearn.py:736: UserWarning: 'verbose' argument is deprecated and will be removed in a future release of LightGBM. Pass 'log_evaluation()' callback via 'callbacks' argument instead.\n",
      "  _log_warning(\"'verbose' argument is deprecated and will be removed in a future release of LightGBM. \"\n",
      "C:\\ProgramData\\anaconda3\\envs\\FakeReviewTorch\\lib\\site-packages\\lightgbm\\sklearn.py:726: UserWarning: 'early_stopping_rounds' argument is deprecated and will be removed in a future release of LightGBM. Pass 'early_stopping()' callback via 'callbacks' argument instead.\n",
      "  _log_warning(\"'early_stopping_rounds' argument is deprecated and will be removed in a future release of LightGBM. \"\n",
      "C:\\ProgramData\\anaconda3\\envs\\FakeReviewTorch\\lib\\site-packages\\lightgbm\\sklearn.py:736: UserWarning: 'verbose' argument is deprecated and will be removed in a future release of LightGBM. Pass 'log_evaluation()' callback via 'callbacks' argument instead.\n",
      "  _log_warning(\"'verbose' argument is deprecated and will be removed in a future release of LightGBM. \"\n"
     ]
    },
    {
     "name": "stdout",
     "output_type": "stream",
     "text": [
      "\n",
      "0 features with zero or negative importance after one-hot encoding.\n",
      "\n"
     ]
    },
    {
     "data": {
      "image/png": "[encoded data removed]",
      "text/plain": [
       "<Figure size 1000x600 with 1 Axes>"
      ]
     },
     "metadata": {},
     "output_type": "display_data"
    },
    {
     "data": {
      "image/png": "[encoded data removed]",
      "text/plain": [
       "<Figure size 600x400 with 1 Axes>"
      ]
     },
     "metadata": {},
     "output_type": "display_data"
    },
    {
     "name": "stdout",
     "output_type": "stream",
     "text": [
      "113 features required for 0.99 of cumulative importance\n"
     ]
    }
   ],
   "source": [
    "df = df[['f5', 'f3', 'f7', 'f4', 'f1', 'emb57', 'f6', 'emb205', 'emb266', 'f2', 'f8', 'label']]\n",
    "columns = df.columns.drop('label')\n",
    "# складываем фичи\n",
    "for _ in range (len(columns)):\n",
    "    for __ in range(_+1, len(columns)):\n",
    "        df[columns[_]+'+'+columns[__]] = df[columns[_]] + df[columns[__]]\n",
    "\n",
    "# умножаем фичи\n",
    "for _ in range (len(columns)):\n",
    "    for __ in range(_+1, len(columns)):\n",
    "        df[columns[_]+'*'+columns[__]] = df[columns[_]] * df[columns[__]]\n",
    "        \n",
    "        \n",
    "# мнение lightboost\n",
    "# Признаки - в train, метки - в train_labels\n",
    "fs = FeatureSelector(data = df.drop('label', axis = 1), labels = df['label'])\n",
    "\n",
    "# Удаляем признаки с корреляцией 0.98\n",
    "fs.identify_collinear(correlation_threshold = 0.98)\n",
    "\n",
    "# Удаляем признаки с нулевой важностью\n",
    "fs.identify_zero_importance(task = 'classification', \n",
    "                            eval_metric = 'roc_auc', \n",
    "                            n_iterations = 10, \n",
    "                             early_stopping = True)\n",
    "\n",
    "zero_importance_features = fs.ops['zero_importance']\n",
    "%matplotlib inline\n",
    "fs.plot_feature_importances(threshold = 0.99, plot_n = 20)\n",
    "df = df[['f5', 'f3', 'f7', 'f4', 'f1', 'emb57', 'f6', 'emb205', 'emb266', 'f2', 'f8', 'emb57*emb205', 'label']]\n",
    "X_test['emb57*emb205'] = X_test['emb57']*X_test['emb205']\n",
    "X_test = X_test[['f5', 'f3', 'f7', 'f4', 'f1', 'emb57', 'f6', 'emb205', 'emb266', 'f2', 'f8', 'emb57*emb205']]"
   ]
  },
  {
   "cell_type": "markdown",
   "id": "855df10e",
   "metadata": {},
   "source": [
    "При массовой генерации не заметно увеличение качество. Фича 'emb57*emb205' лидирует с отрывом, поэтому беру её в датасет"
   ]
  },
  {
   "cell_type": "markdown",
   "id": "d127eed1",
   "metadata": {},
   "source": [
    "# EDA"
   ]
  },
  {
   "cell_type": "code",
   "execution_count": null,
   "id": "f14e372f",
   "metadata": {
    "scrolled": true
   },
   "outputs": [],
   "source": [
    "import matplotlib.pyplot as plt\n",
    "import plotly.express as px\n",
    "import scipy.stats as stats\n",
    "for _ in df.columns:\n",
    "    print(60*\"--\")\n",
    "    plt.figure(figsize=(2,2))\n",
    "    plt.text(0.5, 0.5, 'columns: '+_+ '\\n'+ str(df[_].describe()), va='center', ha = 'right', fontsize=15)\n",
    "    plt.axis('off')\n",
    "    plt.show()\n",
    "    plt.figure(figsize=(2,2))\n",
    "    plt.text(0.5, 0.5, 'Missing (%)   {:.2f}'.format(100*(len(df[_])-len(df[_].dropna()))/len(df[_])) + ' % \\n' + \n",
    "             'Zeros (%)   {:.2f}'.format(100*len(df[_][df[_] == 0])/len(df[_])) + ' % \\n' +\n",
    "             'Unique (%)   {:.2f}'.format(100*len(df[_].unique())/len(df[_])) + '% \\n',\n",
    "             va='center', ha = 'right', fontsize=15)\n",
    "    plt.axis('off')\n",
    "    plt.show()\n",
    "\n",
    "    if _ == 'text':\n",
    "        tmp = df['text']\n",
    "        fig = px.histogram( x = tmp.value_counts()[:10].index, y = tmp.value_counts()[:10].values)\n",
    "        fig.show()\n",
    "        continue\n",
    "    fig = px.histogram(df[_])\n",
    "    fig.show()\n",
    "    fig = px.box(df[_])\n",
    "    fig.show()\n",
    "    print(60*\"--\")"
   ]
  },
  {
   "cell_type": "code",
   "execution_count": null,
   "id": "eff4eff4",
   "metadata": {},
   "outputs": [],
   "source": [
    "px.imshow(df.corr(), width=1000, height =1000)"
   ]
  },
  {
   "cell_type": "markdown",
   "id": "6013c844",
   "metadata": {},
   "source": [
    "# Основная метрика"
   ]
  },
  {
   "cell_type": "markdown",
   "id": "191b4950",
   "metadata": {},
   "source": [
    "Высокий (или низкий) рейтинг будет способствовать росту (или снижению) в продажах продукта, а увеличение среднего рейтинга на одну звезду способствует увеличению выручки на 5-9 процентов [9]. Ни одна стандартная метрика не имеет ничего общего с решением бизнес задачи. Однако невозможно ввести адекватную метрику, ибо мы не знаем оценок, которые были оставлены на товары, а значит можно барть любую метрику, например ROC-AUC."
   ]
  },
  {
   "cell_type": "markdown",
   "id": "1cda73e4",
   "metadata": {},
   "source": [
    "# Определение бэйзлайна (KNN, Навиный Байес, SVM, Ridge, Logistic Regression, Random Forest, GradientBoosting)"
   ]
  },
  {
   "cell_type": "code",
   "execution_count": 6,
   "id": "0529d0da",
   "metadata": {},
   "outputs": [],
   "source": [
    "from sklearn.metrics import roc_auc_score\n",
    "from sklearn.model_selection import cross_validate"
   ]
  },
  {
   "cell_type": "markdown",
   "id": "5d299ad6",
   "metadata": {},
   "source": [
    "# KNN"
   ]
  },
  {
   "cell_type": "code",
   "execution_count": null,
   "id": "1c763d6b",
   "metadata": {},
   "outputs": [],
   "source": [
    "from sklearn.neighbors import KNeighborsClassifier\n",
    "clf = KNeighborsClassifier()\n",
    "tmp = cross_validate(clf, df.drop(['label'], axis = 1), df['label'], scoring=['roc_auc'], cv= 10, n_jobs=10, verbose = 0)['test_roc_auc']\n",
    "print('test_roc_auc:',tmp)\n",
    "print('')\n",
    "print('test_mean:', tmp.mean())"
   ]
  },
  {
   "cell_type": "markdown",
   "id": "e692e35e",
   "metadata": {},
   "source": [
    "# Наивный Байес "
   ]
  },
  {
   "cell_type": "code",
   "execution_count": null,
   "id": "e31bde92",
   "metadata": {},
   "outputs": [],
   "source": [
    "from sklearn.naive_bayes import GaussianNB\n",
    "clf = GaussianNB()\n",
    "tmp = cross_validate(clf, df.drop(['label'], axis = 1), df['label'], scoring=['roc_auc'], cv= 10, n_jobs=10, verbose = 0)['test_roc_auc']\n",
    "print('test_roc_auc:',tmp)\n",
    "print('')\n",
    "print('test_mean:', tmp.mean())"
   ]
  },
  {
   "cell_type": "markdown",
   "id": "0947ceab",
   "metadata": {},
   "source": [
    "# SVM"
   ]
  },
  {
   "cell_type": "code",
   "execution_count": 9,
   "id": "10a6be84",
   "metadata": {},
   "outputs": [
    {
     "name": "stdout",
     "output_type": "stream",
     "text": [
      "test_roc_auc: [0.6955267  0.69476275 0.64255712 0.70320901 0.66767473 0.64121304\n",
      " 0.68867608 0.70010081 0.61648746 0.6671787 ]\n",
      "\n",
      "test_mean: 0.6717386383316768\n"
     ]
    }
   ],
   "source": [
    "from sklearn import svm\n",
    "clf = svm.SVC(probability=True)\n",
    "tmp = cross_validate(clf, df.drop(['label'], axis = 1), df['label'], scoring=['roc_auc'], cv= 10, n_jobs=10, verbose = 0)['test_roc_auc']\n",
    "print('test_roc_auc:',tmp)\n",
    "print('')\n",
    "print('test_mean:', tmp.mean())"
   ]
  },
  {
   "cell_type": "markdown",
   "id": "8815c5ab",
   "metadata": {},
   "source": [
    "# Ridge"
   ]
  },
  {
   "cell_type": "code",
   "execution_count": null,
   "id": "46e55afa",
   "metadata": {},
   "outputs": [],
   "source": [
    "from sklearn.linear_model import RidgeClassifier\n",
    "clf = RidgeClassifier()\n",
    "tmp = cross_validate(clf, df[['f1', 'f2', 'f3', 'f4', 'f5', 'f6', 'f7', 'f8'] ], df['label'], scoring=['roc_auc'], cv= 10, n_jobs=10, verbose = 0)['test_roc_auc']\n",
    "print('test_roc_auc:',tmp)\n",
    "print('')\n",
    "print('test_mean:', tmp.mean())"
   ]
  },
  {
   "cell_type": "markdown",
   "id": "e088c6e5",
   "metadata": {},
   "source": [
    "# LogisticRegression"
   ]
  },
  {
   "cell_type": "code",
   "execution_count": null,
   "id": "d716b5fb",
   "metadata": {},
   "outputs": [],
   "source": [
    "from sklearn.linear_model import LogisticRegression\n",
    "clf = LogisticRegression()\n",
    "tmp = cross_validate(clf, df.drop('label', axis = 1), df['label'], scoring=['roc_auc'], cv= 10, n_jobs=10, verbose = 0)['test_roc_auc']\n",
    "print('test_roc_auc:',tmp)\n",
    "print('')\n",
    "print('test_mean:', tmp.mean())"
   ]
  },
  {
   "cell_type": "markdown",
   "id": "b5f68eb3",
   "metadata": {},
   "source": [
    "# RandomForestClassifier"
   ]
  },
  {
   "cell_type": "code",
   "execution_count": null,
   "id": "791b3f25",
   "metadata": {},
   "outputs": [],
   "source": [
    "from sklearn.ensemble import RandomForestClassifier\n",
    "clf = RandomForestClassifier()\n",
    "tmp = cross_validate(clf, df.drop(['label'], axis = 1), df['label'], scoring=['roc_auc'], cv= 10, n_jobs=10, verbose = 0)['test_roc_auc']\n",
    "print('test_roc_auc:',tmp)\n",
    "print('')\n",
    "print('test_mean:', tmp.mean())"
   ]
  },
  {
   "cell_type": "markdown",
   "id": "953e79cb",
   "metadata": {},
   "source": [
    "# GradientBoostingClassifier"
   ]
  },
  {
   "cell_type": "code",
   "execution_count": null,
   "id": "e3660aa7",
   "metadata": {},
   "outputs": [],
   "source": [
    "from sklearn.ensemble import GradientBoostingClassifier\n",
    "clf = GradientBoostingClassifier()\n",
    "tmp = cross_validate(clf, df.drop(['label'], axis = 1), df['label'], scoring=['roc_auc'], cv= 10, n_jobs=10, verbose = 0)['test_roc_auc']\n",
    "print('test_roc_auc:',tmp)\n",
    "print('')\n",
    "print('test_mean:', tmp.mean())"
   ]
  },
  {
   "cell_type": "markdown",
   "id": "e075ffea",
   "metadata": {},
   "source": [
    "# CatBoost"
   ]
  },
  {
   "cell_type": "code",
   "execution_count": null,
   "id": "9ccd8b5d",
   "metadata": {},
   "outputs": [],
   "source": [
    "from catboost import CatBoostClassifier\n",
    "clf = CatBoostClassifier(verbose = 0)\n",
    "tmp = cross_validate(clf, df.drop(['label'], axis = 1), df['label'], scoring=['roc_auc'], cv= 10, n_jobs=10, verbose = 0)['test_roc_auc']\n",
    "print('test_roc_auc:',tmp)\n",
    "print('')\n",
    "print('test_mean:', tmp.mean())"
   ]
  },
  {
   "cell_type": "markdown",
   "id": "430ac12f",
   "metadata": {},
   "source": [
    "- ['f5', 'f3', 'f1', 'f7', 'f4', 'f6', 'emb57', 'f2'] -- 0.7449671502683837\n",
    "- ['f5', 'f3', 'f7', 'f4', 'f1', 'emb57', 'f6', 'emb205', 'emb266', 'f2', 'emb290', 'f8', 'emb239'] -- 0.7570398452024993\n",
    "- ['f5', 'f3', 'f7', 'f4', 'f1', 'emb57', 'f6', 'emb205', 'emb266', 'f2', 'emb290', 'f8', 'emb239', 'emb94'] -- 0.754\n",
    "- ['f5', 'f3', 'f7', 'f4', 'f1', 'emb57', 'f6', 'emb205', 'emb266', 'f2', 'emb290', 'f8'] -- 0.7604655040168561\n",
    "- ['f5', 'f3', 'f7', 'f4', 'f1', 'emb57', 'f6', 'emb205', 'emb266', 'f2', 'f8'] -- 0.7622611119838942\n",
    "- ['f5', 'f3', 'f7', 'f4', 'f1', 'emb57', 'f6', 'emb205', 'emb266', 'f2', 'f8', 'beh2'] -- 0.7632877958734813"
   ]
  },
  {
   "cell_type": "code",
   "execution_count": null,
   "id": "b154a0a9",
   "metadata": {},
   "outputs": [],
   "source": [
    "from catboost import CatBoostClassifier\n",
    "clf = CatBoostClassifier(verbose = 0)\n",
    "clf.fit(df.drop(['label'], axis = 1), df['label'])\n",
    "tmp = pd.DataFrame(clf.feature_importances_.reshape(1,len(df.columns)-1), columns = df.drop('label', axis = 1).columns)\n",
    "pd.DataFrame(tmp.to_numpy().reshape(len(tmp.columns),1), index = tmp.columns).sort_values(by = 0)[-20:]"
   ]
  },
  {
   "cell_type": "markdown",
   "id": "bef1681e",
   "metadata": {},
   "source": [
    "# Бейзлайн"
   ]
  },
  {
   "cell_type": "code",
   "execution_count": null,
   "id": "83c18722",
   "metadata": {},
   "outputs": [],
   "source": [
    "roc_auc_score(y_test, np.zeros(625))"
   ]
  },
  {
   "cell_type": "markdown",
   "id": "84d4f654",
   "metadata": {},
   "source": [
    "# Тюнинг гиперпараметров"
   ]
  },
  {
   "cell_type": "markdown",
   "id": "af2b48bb",
   "metadata": {},
   "source": [
    "## KNN"
   ]
  },
  {
   "cell_type": "code",
   "execution_count": null,
   "id": "4137f4bd",
   "metadata": {},
   "outputs": [],
   "source": [
    "from skopt import BayesSearchCV\n",
    "from sklearn.neighbors import KNeighborsClassifier\n",
    "opt = BayesSearchCV(\n",
    "    KNeighborsClassifier(),\n",
    "    {\n",
    "        \"n_neighbors\": space.Integer(1,100)\n",
    "    },\n",
    "    scoring = 'roc_auc',\n",
    "    n_iter=50,\n",
    "    verbose = 1,\n",
    "    cv=10,\n",
    "    n_jobs = 10\n",
    ")\n",
    "\n",
    "opt.fit(df.drop('label', axis = 1), df['label'])\n",
    "print(\"val. score: %s\" % opt.best_score_)\n",
    "print(\"test score: %s\" % opt.score(X_test, y_test))\n",
    "print(\"best params: %s\" % str(opt.best_params_))\n",
    "\n",
    "from sklearn.metrics import RocCurveDisplay\n",
    "RocCurveDisplay.from_predictions(y_test, opt.predict_proba(X_test)[:,1])\n",
    "plt.plot([0, 1], [0, 1], \"k--\", label=\"chance level (AUC = 0.5)\")\n",
    "print('roc_auc_score test' ,roc_auc_score(y_test, opt.predict_proba(X_test)[:,1]))"
   ]
  },
  {
   "cell_type": "markdown",
   "id": "57eef83a",
   "metadata": {},
   "source": [
    "val. score: 0.6418203545775591\n",
    "\n",
    "test score: 0.6729224309499539\n",
    "\n",
    "best params: OrderedDict([('n_neighbors', 52)])\n",
    "\n",
    "0.6729224309499539"
   ]
  },
  {
   "cell_type": "markdown",
   "id": "3a2e53e4",
   "metadata": {},
   "source": [
    "## SVC"
   ]
  },
  {
   "cell_type": "code",
   "execution_count": 7,
   "id": "3e8d8bf5",
   "metadata": {},
   "outputs": [
    {
     "name": "stdout",
     "output_type": "stream",
     "text": [
      "Fitting 5 folds for each of 1 candidates, totalling 5 fits\n",
      "Fitting 5 folds for each of 1 candidates, totalling 5 fits\n",
      "Fitting 5 folds for each of 1 candidates, totalling 5 fits\n",
      "Fitting 5 folds for each of 1 candidates, totalling 5 fits\n",
      "Fitting 5 folds for each of 1 candidates, totalling 5 fits\n",
      "Fitting 5 folds for each of 1 candidates, totalling 5 fits\n",
      "Fitting 5 folds for each of 1 candidates, totalling 5 fits\n",
      "Fitting 5 folds for each of 1 candidates, totalling 5 fits\n",
      "Fitting 5 folds for each of 1 candidates, totalling 5 fits\n",
      "Fitting 5 folds for each of 1 candidates, totalling 5 fits\n",
      "Fitting 5 folds for each of 1 candidates, totalling 5 fits\n",
      "Fitting 5 folds for each of 1 candidates, totalling 5 fits\n",
      "Fitting 5 folds for each of 1 candidates, totalling 5 fits\n",
      "Fitting 5 folds for each of 1 candidates, totalling 5 fits\n",
      "Fitting 5 folds for each of 1 candidates, totalling 5 fits\n",
      "Fitting 5 folds for each of 1 candidates, totalling 5 fits\n"
     ]
    },
    {
     "name": "stderr",
     "output_type": "stream",
     "text": [
      "C:\\ProgramData\\anaconda3\\envs\\FakeReviewTorch\\lib\\site-packages\\skopt\\optimizer\\optimizer.py:449: UserWarning: The objective has been evaluated at this point before.\n",
      "  warnings.warn(\"The objective has been evaluated \"\n"
     ]
    },
    {
     "name": "stdout",
     "output_type": "stream",
     "text": [
      "Fitting 5 folds for each of 1 candidates, totalling 5 fits\n",
      "Fitting 5 folds for each of 1 candidates, totalling 5 fits\n",
      "Fitting 5 folds for each of 1 candidates, totalling 5 fits\n",
      "Fitting 5 folds for each of 1 candidates, totalling 5 fits\n",
      "Fitting 5 folds for each of 1 candidates, totalling 5 fits\n"
     ]
    },
    {
     "name": "stderr",
     "output_type": "stream",
     "text": [
      "C:\\ProgramData\\anaconda3\\envs\\FakeReviewTorch\\lib\\site-packages\\skopt\\optimizer\\optimizer.py:449: UserWarning: The objective has been evaluated at this point before.\n",
      "  warnings.warn(\"The objective has been evaluated \"\n"
     ]
    },
    {
     "name": "stdout",
     "output_type": "stream",
     "text": [
      "Fitting 5 folds for each of 1 candidates, totalling 5 fits\n"
     ]
    },
    {
     "name": "stderr",
     "output_type": "stream",
     "text": [
      "C:\\ProgramData\\anaconda3\\envs\\FakeReviewTorch\\lib\\site-packages\\skopt\\optimizer\\optimizer.py:449: UserWarning: The objective has been evaluated at this point before.\n",
      "  warnings.warn(\"The objective has been evaluated \"\n"
     ]
    },
    {
     "name": "stdout",
     "output_type": "stream",
     "text": [
      "Fitting 5 folds for each of 1 candidates, totalling 5 fits\n",
      "Fitting 5 folds for each of 1 candidates, totalling 5 fits\n",
      "Fitting 5 folds for each of 1 candidates, totalling 5 fits\n",
      "Fitting 5 folds for each of 1 candidates, totalling 5 fits\n"
     ]
    },
    {
     "name": "stderr",
     "output_type": "stream",
     "text": [
      "C:\\ProgramData\\anaconda3\\envs\\FakeReviewTorch\\lib\\site-packages\\skopt\\optimizer\\optimizer.py:449: UserWarning: The objective has been evaluated at this point before.\n",
      "  warnings.warn(\"The objective has been evaluated \"\n"
     ]
    },
    {
     "name": "stdout",
     "output_type": "stream",
     "text": [
      "Fitting 5 folds for each of 1 candidates, totalling 5 fits\n",
      "Fitting 5 folds for each of 1 candidates, totalling 5 fits\n",
      "Fitting 5 folds for each of 1 candidates, totalling 5 fits\n",
      "Fitting 5 folds for each of 1 candidates, totalling 5 fits\n"
     ]
    },
    {
     "name": "stderr",
     "output_type": "stream",
     "text": [
      "C:\\ProgramData\\anaconda3\\envs\\FakeReviewTorch\\lib\\site-packages\\skopt\\optimizer\\optimizer.py:449: UserWarning: The objective has been evaluated at this point before.\n",
      "  warnings.warn(\"The objective has been evaluated \"\n"
     ]
    },
    {
     "name": "stdout",
     "output_type": "stream",
     "text": [
      "Fitting 5 folds for each of 1 candidates, totalling 5 fits\n"
     ]
    },
    {
     "name": "stderr",
     "output_type": "stream",
     "text": [
      "C:\\ProgramData\\anaconda3\\envs\\FakeReviewTorch\\lib\\site-packages\\skopt\\optimizer\\optimizer.py:449: UserWarning: The objective has been evaluated at this point before.\n",
      "  warnings.warn(\"The objective has been evaluated \"\n"
     ]
    },
    {
     "name": "stdout",
     "output_type": "stream",
     "text": [
      "Fitting 5 folds for each of 1 candidates, totalling 5 fits\n",
      "Fitting 5 folds for each of 1 candidates, totalling 5 fits\n",
      "Fitting 5 folds for each of 1 candidates, totalling 5 fits\n",
      "Fitting 5 folds for each of 1 candidates, totalling 5 fits\n"
     ]
    },
    {
     "name": "stderr",
     "output_type": "stream",
     "text": [
      "C:\\ProgramData\\anaconda3\\envs\\FakeReviewTorch\\lib\\site-packages\\skopt\\optimizer\\optimizer.py:449: UserWarning: The objective has been evaluated at this point before.\n",
      "  warnings.warn(\"The objective has been evaluated \"\n"
     ]
    },
    {
     "name": "stdout",
     "output_type": "stream",
     "text": [
      "Fitting 5 folds for each of 1 candidates, totalling 5 fits\n"
     ]
    },
    {
     "name": "stderr",
     "output_type": "stream",
     "text": [
      "C:\\ProgramData\\anaconda3\\envs\\FakeReviewTorch\\lib\\site-packages\\skopt\\optimizer\\optimizer.py:449: UserWarning: The objective has been evaluated at this point before.\n",
      "  warnings.warn(\"The objective has been evaluated \"\n"
     ]
    },
    {
     "name": "stdout",
     "output_type": "stream",
     "text": [
      "Fitting 5 folds for each of 1 candidates, totalling 5 fits\n",
      "Fitting 5 folds for each of 1 candidates, totalling 5 fits\n",
      "Fitting 5 folds for each of 1 candidates, totalling 5 fits\n",
      "Fitting 5 folds for each of 1 candidates, totalling 5 fits\n",
      "Fitting 5 folds for each of 1 candidates, totalling 5 fits\n",
      "Fitting 5 folds for each of 1 candidates, totalling 5 fits\n",
      "Fitting 5 folds for each of 1 candidates, totalling 5 fits\n",
      "Fitting 5 folds for each of 1 candidates, totalling 5 fits\n",
      "Fitting 5 folds for each of 1 candidates, totalling 5 fits\n",
      "Fitting 5 folds for each of 1 candidates, totalling 5 fits\n",
      "Fitting 5 folds for each of 1 candidates, totalling 5 fits\n",
      "Fitting 5 folds for each of 1 candidates, totalling 5 fits\n",
      "Fitting 5 folds for each of 1 candidates, totalling 5 fits\n",
      "Fitting 5 folds for each of 1 candidates, totalling 5 fits\n",
      "val. score: 0.6465727356359762\n",
      "test score: 0.6829765545361874\n",
      "best params: OrderedDict([('C', 0.6183283940558498), ('gamma', 0.0001), ('probability', True)])\n"
     ]
    },
    {
     "data": {
      "text/plain": [
       "0.6829765545361874"
      ]
     },
     "execution_count": 7,
     "metadata": {},
     "output_type": "execute_result"
    }
   ],
   "source": [
    "from skopt import BayesSearchCV, space, plots\n",
    "from sklearn import svm\n",
    "opt = BayesSearchCV(\n",
    "    svm.SVC(),\n",
    "    {\n",
    "        'C': space.Real(1e-3, 1e+3, prior='log-uniform'),\n",
    "        'gamma': space.Real(1e-4, 1e+4, prior='log-uniform'),\n",
    "#         'degree': space.Integer(1,8),\n",
    "        'probability': space.Categorical([True])\n",
    "    },\n",
    "    scoring = 'roc_auc',\n",
    "    n_iter=50,\n",
    "    verbose = 1,\n",
    "    cv=5,\n",
    "    n_jobs = 5\n",
    ")\n",
    "\n",
    "opt.fit(df.drop('label', axis = 1), df['label'])\n",
    "print(\"val. score: %s\" % opt.best_score_)\n",
    "print(\"test score: %s\" % opt.score(X_test, y_test))\n",
    "print(\"best params: %s\" % str(opt.best_params_))\n",
    "roc_auc_score(y_test, opt.predict_proba(X_test)[:,1])"
   ]
  },
  {
   "cell_type": "markdown",
   "id": "1f35ea71",
   "metadata": {},
   "source": [
    "val. score: 0.6465727356359762\n",
    "\n",
    "test score: 0.6829765545361874\n",
    "\n",
    "best params: OrderedDict([('C', 0.6183283940558498), ('gamma', 0.0001), ('probability', True)])"
   ]
  },
  {
   "cell_type": "markdown",
   "id": "39108c1b",
   "metadata": {},
   "source": [
    "## LogisticRegression"
   ]
  },
  {
   "cell_type": "code",
   "execution_count": null,
   "id": "beb0d880",
   "metadata": {},
   "outputs": [],
   "source": [
    "from skopt import BayesSearchCV, space, plots\n",
    "from sklearn.linear_model import LogisticRegression\n",
    "opt = BayesSearchCV(\n",
    "    LogisticRegression(),\n",
    "    {\n",
    "        'penalty' : ['l1', 'l2'],\n",
    "        'C' : space.Real(1e-3, 1e+3, prior='log-uniform'),\n",
    "        'solver' : ['liblinear']\n",
    "    },\n",
    "    scoring = 'roc_auc',\n",
    "    n_iter=50,\n",
    "    verbose = 1,\n",
    "    cv=10,\n",
    "    n_jobs = 10\n",
    ")\n",
    "\n",
    "opt.fit(df.drop('label', axis = 1), df['label'])\n",
    "print(\"val. score: %s\" % opt.best_score_)\n",
    "print(\"test score: %s\" % opt.score(X_test, y_test))\n",
    "print(\"best params: %s\" % str(opt.best_params_))\n",
    "\n",
    "from sklearn.metrics import RocCurveDisplay\n",
    "RocCurveDisplay.from_predictions(y_test, opt.predict_proba(X_test)[:,1])\n",
    "plt.plot([0, 1], [0, 1], \"k--\", label=\"chance level (AUC = 0.5)\")\n",
    "print('roc_auc_score test' ,roc_auc_score(y_test, opt.predict_proba(X_test)[:,1]))"
   ]
  },
  {
   "cell_type": "markdown",
   "id": "530984bf",
   "metadata": {},
   "source": [
    "val. score: 0.704648037224828\n",
    "\n",
    "test score: 0.7238119508761711\n",
    "\n",
    "best params: OrderedDict([('C', 11.288378916846883), ('penalty', 'l2'), ('solver', 'liblinear')])"
   ]
  },
  {
   "cell_type": "markdown",
   "id": "51857ffb",
   "metadata": {},
   "source": [
    "## RandomForest"
   ]
  },
  {
   "cell_type": "code",
   "execution_count": 8,
   "id": "6f8a384d",
   "metadata": {},
   "outputs": [
    {
     "name": "stdout",
     "output_type": "stream",
     "text": [
      "Fitting 10 folds for each of 1 candidates, totalling 10 fits\n",
      "Fitting 10 folds for each of 1 candidates, totalling 10 fits\n",
      "Fitting 10 folds for each of 1 candidates, totalling 10 fits\n",
      "Fitting 10 folds for each of 1 candidates, totalling 10 fits\n",
      "Fitting 10 folds for each of 1 candidates, totalling 10 fits\n",
      "Fitting 10 folds for each of 1 candidates, totalling 10 fits\n",
      "Fitting 10 folds for each of 1 candidates, totalling 10 fits\n",
      "Fitting 10 folds for each of 1 candidates, totalling 10 fits\n",
      "Fitting 10 folds for each of 1 candidates, totalling 10 fits\n",
      "Fitting 10 folds for each of 1 candidates, totalling 10 fits\n",
      "Fitting 10 folds for each of 1 candidates, totalling 10 fits\n",
      "Fitting 10 folds for each of 1 candidates, totalling 10 fits\n",
      "Fitting 10 folds for each of 1 candidates, totalling 10 fits\n",
      "Fitting 10 folds for each of 1 candidates, totalling 10 fits\n",
      "Fitting 10 folds for each of 1 candidates, totalling 10 fits\n",
      "Fitting 10 folds for each of 1 candidates, totalling 10 fits\n",
      "Fitting 10 folds for each of 1 candidates, totalling 10 fits\n",
      "Fitting 10 folds for each of 1 candidates, totalling 10 fits\n",
      "Fitting 10 folds for each of 1 candidates, totalling 10 fits\n",
      "Fitting 10 folds for each of 1 candidates, totalling 10 fits\n",
      "Fitting 10 folds for each of 1 candidates, totalling 10 fits\n",
      "Fitting 10 folds for each of 1 candidates, totalling 10 fits\n",
      "Fitting 10 folds for each of 1 candidates, totalling 10 fits\n",
      "Fitting 10 folds for each of 1 candidates, totalling 10 fits\n",
      "Fitting 10 folds for each of 1 candidates, totalling 10 fits\n"
     ]
    },
    {
     "name": "stderr",
     "output_type": "stream",
     "text": [
      "C:\\ProgramData\\anaconda3\\envs\\FakeReviewTorch\\lib\\site-packages\\skopt\\optimizer\\optimizer.py:449: UserWarning: The objective has been evaluated at this point before.\n",
      "  warnings.warn(\"The objective has been evaluated \"\n"
     ]
    },
    {
     "name": "stdout",
     "output_type": "stream",
     "text": [
      "Fitting 10 folds for each of 1 candidates, totalling 10 fits\n",
      "Fitting 10 folds for each of 1 candidates, totalling 10 fits\n",
      "Fitting 10 folds for each of 1 candidates, totalling 10 fits\n",
      "Fitting 10 folds for each of 1 candidates, totalling 10 fits\n",
      "Fitting 10 folds for each of 1 candidates, totalling 10 fits\n",
      "Fitting 10 folds for each of 1 candidates, totalling 10 fits\n",
      "Fitting 10 folds for each of 1 candidates, totalling 10 fits\n"
     ]
    },
    {
     "name": "stderr",
     "output_type": "stream",
     "text": [
      "C:\\ProgramData\\anaconda3\\envs\\FakeReviewTorch\\lib\\site-packages\\skopt\\optimizer\\optimizer.py:449: UserWarning: The objective has been evaluated at this point before.\n",
      "  warnings.warn(\"The objective has been evaluated \"\n"
     ]
    },
    {
     "name": "stdout",
     "output_type": "stream",
     "text": [
      "Fitting 10 folds for each of 1 candidates, totalling 10 fits\n"
     ]
    },
    {
     "name": "stderr",
     "output_type": "stream",
     "text": [
      "C:\\ProgramData\\anaconda3\\envs\\FakeReviewTorch\\lib\\site-packages\\skopt\\optimizer\\optimizer.py:449: UserWarning: The objective has been evaluated at this point before.\n",
      "  warnings.warn(\"The objective has been evaluated \"\n"
     ]
    },
    {
     "name": "stdout",
     "output_type": "stream",
     "text": [
      "Fitting 10 folds for each of 1 candidates, totalling 10 fits\n",
      "Fitting 10 folds for each of 1 candidates, totalling 10 fits\n"
     ]
    },
    {
     "name": "stderr",
     "output_type": "stream",
     "text": [
      "C:\\ProgramData\\anaconda3\\envs\\FakeReviewTorch\\lib\\site-packages\\skopt\\optimizer\\optimizer.py:449: UserWarning: The objective has been evaluated at this point before.\n",
      "  warnings.warn(\"The objective has been evaluated \"\n"
     ]
    },
    {
     "name": "stdout",
     "output_type": "stream",
     "text": [
      "Fitting 10 folds for each of 1 candidates, totalling 10 fits\n"
     ]
    },
    {
     "name": "stderr",
     "output_type": "stream",
     "text": [
      "C:\\ProgramData\\anaconda3\\envs\\FakeReviewTorch\\lib\\site-packages\\skopt\\optimizer\\optimizer.py:449: UserWarning: The objective has been evaluated at this point before.\n",
      "  warnings.warn(\"The objective has been evaluated \"\n"
     ]
    },
    {
     "name": "stdout",
     "output_type": "stream",
     "text": [
      "Fitting 10 folds for each of 1 candidates, totalling 10 fits\n"
     ]
    },
    {
     "name": "stderr",
     "output_type": "stream",
     "text": [
      "C:\\ProgramData\\anaconda3\\envs\\FakeReviewTorch\\lib\\site-packages\\skopt\\optimizer\\optimizer.py:449: UserWarning: The objective has been evaluated at this point before.\n",
      "  warnings.warn(\"The objective has been evaluated \"\n"
     ]
    },
    {
     "name": "stdout",
     "output_type": "stream",
     "text": [
      "Fitting 10 folds for each of 1 candidates, totalling 10 fits\n",
      "Fitting 10 folds for each of 1 candidates, totalling 10 fits\n"
     ]
    },
    {
     "name": "stderr",
     "output_type": "stream",
     "text": [
      "C:\\ProgramData\\anaconda3\\envs\\FakeReviewTorch\\lib\\site-packages\\skopt\\optimizer\\optimizer.py:449: UserWarning: The objective has been evaluated at this point before.\n",
      "  warnings.warn(\"The objective has been evaluated \"\n"
     ]
    },
    {
     "name": "stdout",
     "output_type": "stream",
     "text": [
      "Fitting 10 folds for each of 1 candidates, totalling 10 fits\n"
     ]
    },
    {
     "name": "stderr",
     "output_type": "stream",
     "text": [
      "C:\\ProgramData\\anaconda3\\envs\\FakeReviewTorch\\lib\\site-packages\\skopt\\optimizer\\optimizer.py:449: UserWarning: The objective has been evaluated at this point before.\n",
      "  warnings.warn(\"The objective has been evaluated \"\n"
     ]
    },
    {
     "name": "stdout",
     "output_type": "stream",
     "text": [
      "Fitting 10 folds for each of 1 candidates, totalling 10 fits\n",
      "Fitting 10 folds for each of 1 candidates, totalling 10 fits\n",
      "Fitting 10 folds for each of 1 candidates, totalling 10 fits\n",
      "Fitting 10 folds for each of 1 candidates, totalling 10 fits\n"
     ]
    },
    {
     "name": "stderr",
     "output_type": "stream",
     "text": [
      "C:\\ProgramData\\anaconda3\\envs\\FakeReviewTorch\\lib\\site-packages\\skopt\\optimizer\\optimizer.py:449: UserWarning: The objective has been evaluated at this point before.\n",
      "  warnings.warn(\"The objective has been evaluated \"\n"
     ]
    },
    {
     "name": "stdout",
     "output_type": "stream",
     "text": [
      "Fitting 10 folds for each of 1 candidates, totalling 10 fits\n"
     ]
    },
    {
     "name": "stderr",
     "output_type": "stream",
     "text": [
      "C:\\ProgramData\\anaconda3\\envs\\FakeReviewTorch\\lib\\site-packages\\skopt\\optimizer\\optimizer.py:449: UserWarning: The objective has been evaluated at this point before.\n",
      "  warnings.warn(\"The objective has been evaluated \"\n"
     ]
    },
    {
     "name": "stdout",
     "output_type": "stream",
     "text": [
      "Fitting 10 folds for each of 1 candidates, totalling 10 fits\n"
     ]
    },
    {
     "name": "stderr",
     "output_type": "stream",
     "text": [
      "C:\\ProgramData\\anaconda3\\envs\\FakeReviewTorch\\lib\\site-packages\\skopt\\optimizer\\optimizer.py:449: UserWarning: The objective has been evaluated at this point before.\n",
      "  warnings.warn(\"The objective has been evaluated \"\n"
     ]
    },
    {
     "name": "stdout",
     "output_type": "stream",
     "text": [
      "Fitting 10 folds for each of 1 candidates, totalling 10 fits\n",
      "Fitting 10 folds for each of 1 candidates, totalling 10 fits\n"
     ]
    },
    {
     "name": "stderr",
     "output_type": "stream",
     "text": [
      "C:\\ProgramData\\anaconda3\\envs\\FakeReviewTorch\\lib\\site-packages\\skopt\\optimizer\\optimizer.py:449: UserWarning: The objective has been evaluated at this point before.\n",
      "  warnings.warn(\"The objective has been evaluated \"\n"
     ]
    },
    {
     "name": "stdout",
     "output_type": "stream",
     "text": [
      "Fitting 10 folds for each of 1 candidates, totalling 10 fits\n",
      "Fitting 10 folds for each of 1 candidates, totalling 10 fits\n",
      "val. score: 0.7491455567238299\n",
      "test score: 0.7337265181301879\n",
      "best params: OrderedDict([('max_depth', 8), ('n_estimators', 100)])\n",
      "roc_auc_score test 0.7337265181301879\n"
     ]
    },
    {
     "data": {
      "image/png": "[encoded data removed]",
      "text/plain": [
       "<Figure size 640x480 with 1 Axes>"
      ]
     },
     "metadata": {},
     "output_type": "display_data"
    }
   ],
   "source": [
    "from skopt import BayesSearchCV, space, plots\n",
    "from sklearn.ensemble import RandomForestClassifier\n",
    "opt = BayesSearchCV(\n",
    "    RandomForestClassifier(),\n",
    "    {\n",
    "        'n_estimators' : space.Integer(10, 100),\n",
    "        'max_depth' : space.Integer(4,10),\n",
    "        \n",
    "    },\n",
    "    scoring = 'roc_auc',\n",
    "    n_iter=50,\n",
    "    verbose = 1,\n",
    "    cv=10,\n",
    "    n_jobs = 10\n",
    ")\n",
    "\n",
    "opt.fit(df.drop('label', axis = 1), df['label'])\n",
    "print(\"val. score: %s\" % opt.best_score_)\n",
    "print(\"test score: %s\" % opt.score(X_test, y_test))\n",
    "print(\"best params: %s\" % str(opt.best_params_))\n",
    "\n",
    "from sklearn.metrics import RocCurveDisplay\n",
    "RocCurveDisplay.from_predictions(y_test, opt.predict_proba(X_test)[:,1])\n",
    "plt.plot([0, 1], [0, 1], \"k--\", label=\"chance level (AUC = 0.5)\")\n",
    "print('roc_auc_score test' ,roc_auc_score(y_test, opt.predict_proba(X_test)[:,1]))"
   ]
  },
  {
   "cell_type": "markdown",
   "id": "348dbf14",
   "metadata": {},
   "source": [
    "val. score: 0.7491455567238299\n",
    "\n",
    "test score: 0.7337265181301879\n",
    "\n",
    "best params: OrderedDict([('max_depth', 8), ('n_estimators', 100)])"
   ]
  },
  {
   "cell_type": "markdown",
   "id": "7561d744",
   "metadata": {},
   "source": [
    "## GradientBoostingClassifier"
   ]
  },
  {
   "cell_type": "code",
   "execution_count": 11,
   "id": "b6f8c564",
   "metadata": {},
   "outputs": [
    {
     "name": "stdout",
     "output_type": "stream",
     "text": [
      "Fitting 10 folds for each of 1 candidates, totalling 10 fits\n",
      "Fitting 10 folds for each of 1 candidates, totalling 10 fits\n",
      "Fitting 10 folds for each of 1 candidates, totalling 10 fits\n",
      "Fitting 10 folds for each of 1 candidates, totalling 10 fits\n",
      "Fitting 10 folds for each of 1 candidates, totalling 10 fits\n",
      "Fitting 10 folds for each of 1 candidates, totalling 10 fits\n",
      "Fitting 10 folds for each of 1 candidates, totalling 10 fits\n",
      "Fitting 10 folds for each of 1 candidates, totalling 10 fits\n",
      "Fitting 10 folds for each of 1 candidates, totalling 10 fits\n",
      "Fitting 10 folds for each of 1 candidates, totalling 10 fits\n",
      "Fitting 10 folds for each of 1 candidates, totalling 10 fits\n",
      "Fitting 10 folds for each of 1 candidates, totalling 10 fits\n",
      "Fitting 10 folds for each of 1 candidates, totalling 10 fits\n",
      "Fitting 10 folds for each of 1 candidates, totalling 10 fits\n",
      "Fitting 10 folds for each of 1 candidates, totalling 10 fits\n",
      "Fitting 10 folds for each of 1 candidates, totalling 10 fits\n",
      "Fitting 10 folds for each of 1 candidates, totalling 10 fits\n",
      "Fitting 10 folds for each of 1 candidates, totalling 10 fits\n",
      "Fitting 10 folds for each of 1 candidates, totalling 10 fits\n",
      "Fitting 10 folds for each of 1 candidates, totalling 10 fits\n",
      "Fitting 10 folds for each of 1 candidates, totalling 10 fits\n",
      "Fitting 10 folds for each of 1 candidates, totalling 10 fits\n",
      "Fitting 10 folds for each of 1 candidates, totalling 10 fits\n",
      "Fitting 10 folds for each of 1 candidates, totalling 10 fits\n",
      "Fitting 10 folds for each of 1 candidates, totalling 10 fits\n",
      "Fitting 10 folds for each of 1 candidates, totalling 10 fits\n",
      "Fitting 10 folds for each of 1 candidates, totalling 10 fits\n",
      "Fitting 10 folds for each of 1 candidates, totalling 10 fits\n",
      "Fitting 10 folds for each of 1 candidates, totalling 10 fits\n",
      "Fitting 10 folds for each of 1 candidates, totalling 10 fits\n",
      "Fitting 10 folds for each of 1 candidates, totalling 10 fits\n",
      "Fitting 10 folds for each of 1 candidates, totalling 10 fits\n",
      "Fitting 10 folds for each of 1 candidates, totalling 10 fits\n",
      "Fitting 10 folds for each of 1 candidates, totalling 10 fits\n",
      "Fitting 10 folds for each of 1 candidates, totalling 10 fits\n",
      "Fitting 10 folds for each of 1 candidates, totalling 10 fits\n",
      "Fitting 10 folds for each of 1 candidates, totalling 10 fits\n",
      "Fitting 10 folds for each of 1 candidates, totalling 10 fits\n",
      "Fitting 10 folds for each of 1 candidates, totalling 10 fits\n",
      "Fitting 10 folds for each of 1 candidates, totalling 10 fits\n",
      "Fitting 10 folds for each of 1 candidates, totalling 10 fits\n",
      "Fitting 10 folds for each of 1 candidates, totalling 10 fits\n",
      "Fitting 10 folds for each of 1 candidates, totalling 10 fits\n",
      "Fitting 10 folds for each of 1 candidates, totalling 10 fits\n",
      "Fitting 10 folds for each of 1 candidates, totalling 10 fits\n",
      "Fitting 10 folds for each of 1 candidates, totalling 10 fits\n",
      "Fitting 10 folds for each of 1 candidates, totalling 10 fits\n",
      "Fitting 10 folds for each of 1 candidates, totalling 10 fits\n",
      "Fitting 10 folds for each of 1 candidates, totalling 10 fits\n",
      "Fitting 10 folds for each of 1 candidates, totalling 10 fits\n",
      "val. score: 0.7481677822033017\n",
      "test score: 0.710256783651279\n",
      "best params: OrderedDict([('learning_rate', 0.08099979480911468), ('max_depth', 4), ('n_estimators', 278)])\n",
      "roc_auc_score test 0.710256783651279\n"
     ]
    },
    {
     "data": {
      "image/png": "[encoded data removed]",
      "text/plain": [
       "<Figure size 640x480 with 1 Axes>"
      ]
     },
     "metadata": {},
     "output_type": "display_data"
    }
   ],
   "source": [
    "from skopt import BayesSearchCV, space, plots\n",
    "from sklearn.ensemble import GradientBoostingClassifier\n",
    "opt = BayesSearchCV(\n",
    "    GradientBoostingClassifier(),\n",
    "    {\n",
    "        'learning_rate': space.Real(1e-5, 1, prior = 'log-uniform'),\n",
    "        'max_depth' : space.Integer(4,10),\n",
    "        'n_estimators': space.Integer(10,500)\n",
    "    },\n",
    "    scoring = 'roc_auc',\n",
    "    n_iter=50,\n",
    "    verbose = 1,\n",
    "    cv=10,\n",
    "    n_jobs = 10\n",
    ")\n",
    "\n",
    "opt.fit(df.drop('label', axis = 1), df['label'])\n",
    "print(\"val. score: %s\" % opt.best_score_)\n",
    "print(\"test score: %s\" % opt.score(X_test, y_test))\n",
    "print(\"best params: %s\" % str(opt.best_params_))\n",
    "\n",
    "from sklearn.metrics import RocCurveDisplay\n",
    "RocCurveDisplay.from_predictions(y_test, opt.predict_proba(X_test)[:,1])\n",
    "plt.plot([0, 1], [0, 1], \"k--\", label=\"chance level (AUC = 0.5)\")\n",
    "print('roc_auc_score test' ,roc_auc_score(y_test, opt.predict_proba(X_test)[:,1]))"
   ]
  },
  {
   "cell_type": "markdown",
   "id": "71387b3d",
   "metadata": {},
   "source": [
    "val. score: 0.7481677822033017\n",
    "    \n",
    "test score: 0.710256783651279\n",
    "    \n",
    "best params: OrderedDict([('learning_rate', 0.08099979480911468), ('max_depth', 4), ('n_estimators', 278)])"
   ]
  },
  {
   "cell_type": "markdown",
   "id": "49d2838f",
   "metadata": {},
   "source": [
    "## CatBoost"
   ]
  },
  {
   "cell_type": "code",
   "execution_count": null,
   "id": "ed438c66",
   "metadata": {},
   "outputs": [],
   "source": [
    "from skopt import BayesSearchCV, space, plots\n",
    "from catboost import CatBoostClassifier\n",
    "opt = BayesSearchCV(\n",
    "    CatBoostClassifier(),\n",
    "    {\n",
    "        'learning_rate': space.Real(1e-5, 1, prior = 'log-uniform'),\n",
    "        'iterations': scpace.Integer(100,1000),\n",
    "        'subsample': space.Real(0.05, 1),\n",
    "        'max_depth': space.Integer(1, 10)\n",
    "    },\n",
    "    n_iter=30,\n",
    "    verbose = 4,\n",
    "    cv=3,\n",
    "    n_jobs = 3,\n",
    "    scoring = 'roc_auc'\n",
    ")\n",
    "\n",
    "opt.fit(df.drop('label', axis = 1), df['label'])\n",
    "print(\"val. score: %s\" % opt.best_score_)\n",
    "print(\"test score: %s\" % opt.score(X_test, y_test))\n",
    "print(\"best params: %s\" % str(opt.best_params_))\n",
    "from sklearn.metrics import RocCurveDisplay\n",
    "RocCurveDisplay.from_predictions(y_test, opt.predict_proba(X_test)[:,1])\n",
    "plt.plot([0, 1], [0, 1], \"k--\", label=\"chance level (AUC = 0.5)\")"
   ]
  },
  {
   "cell_type": "markdown",
   "id": "37e825b0",
   "metadata": {},
   "source": [
    "## LogisticRegression"
   ]
  },
  {
   "cell_type": "markdown",
   "id": "c2e5ea2e",
   "metadata": {},
   "source": [
    "val. score: 0.7555983247133448\n",
    "\n",
    "test score: 0.7234114848793747\n",
    "\n",
    "best params: OrderedDict([('iterations', 1000), ('learning_rate', 0.03917038821802146), ('max_depth', 4), ('subsample', 0.5711960500184257)])"
   ]
  },
  {
   "cell_type": "markdown",
   "id": "4d213f27",
   "metadata": {},
   "source": [
    "# Победители"
   ]
  },
  {
   "cell_type": "markdown",
   "id": "095bdbcd",
   "metadata": {},
   "source": [
    "## LogisticRegression"
   ]
  },
  {
   "cell_type": "markdown",
   "id": "dc2577e5",
   "metadata": {},
   "source": [
    "val. score: 0.704648037224828\n",
    "\n",
    "test score: 0.7238119508761711\n",
    "\n",
    "best params: OrderedDict([('C', 11.288378916846883), ('penalty', 'l2'), ('solver', 'liblinear')])"
   ]
  },
  {
   "cell_type": "code",
   "execution_count": 26,
   "id": "67535876",
   "metadata": {},
   "outputs": [
    {
     "name": "stdout",
     "output_type": "stream",
     "text": [
      "roc_auc_score test 0.7238119508761711\n"
     ]
    },
    {
     "data": {
      "image/png": "[encoded data removed]",
      "text/plain": [
       "<Figure size 640x480 with 1 Axes>"
      ]
     },
     "metadata": {},
     "output_type": "display_data"
    }
   ],
   "source": [
    "clf = LogisticRegression(C = 11.288378916846883, penalty = 'l2', solver = 'liblinear')\n",
    "clf.fit(df.drop('label', axis = 1), df['label'])\n",
    "\n",
    "from sklearn.metrics import RocCurveDisplay\n",
    "RocCurveDisplay.from_predictions(y_test, clf.predict_proba(X_test)[:,1])\n",
    "plt.plot([0, 1], [0, 1], \"k--\", label=\"chance level (AUC = 0.5)\")\n",
    "print('roc_auc_score test' ,roc_auc_score(y_test, clf.predict_proba(X_test)[:,1]))"
   ]
  },
  {
   "cell_type": "markdown",
   "id": "0dd01678",
   "metadata": {},
   "source": [
    "## RandomForest"
   ]
  },
  {
   "cell_type": "markdown",
   "id": "d937ce5c",
   "metadata": {},
   "source": [
    "val. score: 0.7491455567238299\n",
    "\n",
    "test score: 0.7337265181301879\n",
    "\n",
    "best params: OrderedDict([('max_depth', 8), ('n_estimators', 100)])"
   ]
  },
  {
   "cell_type": "code",
   "execution_count": 27,
   "id": "276d92bd",
   "metadata": {},
   "outputs": [
    {
     "name": "stdout",
     "output_type": "stream",
     "text": [
      "roc_auc_score test 0.735425464783263\n"
     ]
    },
    {
     "data": {
      "image/png": "[encoded data removed]",
      "text/plain": [
       "<Figure size 640x480 with 1 Axes>"
      ]
     },
     "metadata": {},
     "output_type": "display_data"
    }
   ],
   "source": [
    "from sklearn.ensemble import RandomForestClassifier\n",
    "clf = RandomForestClassifier(max_depth = 8, n_estimators = 100)\n",
    "clf.fit(df.drop('label', axis = 1), df['label'])\n",
    "\n",
    "from sklearn.metrics import RocCurveDisplay\n",
    "RocCurveDisplay.from_predictions(y_test, clf.predict_proba(X_test)[:,1])\n",
    "plt.plot([0, 1], [0, 1], \"k--\", label=\"chance level (AUC = 0.5)\")\n",
    "print('roc_auc_score test' ,roc_auc_score(y_test, clf.predict_proba(X_test)[:,1]))"
   ]
  },
  {
   "cell_type": "markdown",
   "id": "53a6683d",
   "metadata": {},
   "source": [
    "# Итоги\n",
    "Ограниченный набор данных сильно связывает руки в решении ML задачи. Было бы здорово, если добавили время написания отзыва и оценку, поставленную за отзыв, тогда можно будет добавить большое количество Behavioural фичей, написать адекватную метрику для оптимизации. В качестве бейзлайна возьмём значение ROC-AUC -- 0.7495687120852556."
   ]
  },
  {
   "cell_type": "markdown",
   "id": "bf691eff",
   "metadata": {},
   "source": [
    "# Список литературы\n",
    "- [1] F. H. Li, M. Huang, Y. Yang, and X. Zhu, ‘‘Learning to identify review spam,’’ in Proc. 22nd Int. Joint Conf. Artif. Intell., 2011, pp. 1–6.\n",
    "- [2] H. Li, G. Fei, S. Wang, B. Liu, W. Shao, A. Mukherjee, and J. Shao, ‘‘Bimodal distribution and co-bursting in review spam detection,’’ in Proc. 26th Int. Conf. World Wide Web, Apr. 2017, pp. 1063–1072.\n",
    "- [3]  Y. Li, ‘‘Highlighting the fake reviews in review sequence with the suspicious contents and behaviours,’’ J. Inf. Comput.al Sci., vol. 12, no. 4, pp. 1615–1627, Mar. 2015.\n",
    "- [4] A. Mukherjee, A. Kumar, B. Liu, J. Wang, M. Hsu, M. Castellanos, and R. Ghosh, ‘‘Spotting opinion spammers using behavioral footprints,’’ in Proc. 19th ACM SIGKDD Int. Conf. Knowl. Discovery Data Mining, Aug. 2013, pp. 632–640.\n",
    "- [5] J. Devlin, M.-W. Chang, K. Lee, and K. Toutanova, ‘‘BERT: Pretraining of deep bidirectional transformers for language understanding,’’ 2018, arXiv:1810.04805. [Online]. Available: http://arxiv.org/abs/1810. 04805\n",
    "- [6]V. Sanh, L. Debut, J. Chaumond, and T. Wolf, ‘‘DistilBERT, a distilled version of BERT: Smaller, faster, cheaper and lighter,’’ 2019, arXiv:1910.01108. [Online]. Available: http://arxiv.org/abs/1910. 01108\n",
    "- [7] Y. Liu, M. Ott, N. Goyal, J. Du, M. Joshi, D. Chen, O. Levy, M. Lewis, L. Zettlemoyer, and V. Stoyanov, ‘‘RoBERTa: A robustly optimized BERT pretraining approach,’’ 2019, arXiv:1907.11692. [Online]. Available: http://arxiv.org/abs/1907.11692\n",
    "- [8]  S. Shojaee, M. A. A. Murad, A. B. Azman, N. M. Sharef, and S. Nadali,‘‘Detecting deceptive reviews using lexical and syntactic features,’’ in Proc. 13th Int. Conf. Intellient Syst. Design Appl., Dec. 2013, pp. 53–58.\n",
    "- [9] Yingtong Dou, Guixiang Ma, Philip S. Yu, Sihong Xie, \"Robust Spammer Detection by Nash Reinforcement Learning\", 2020, \tarXiv:2006.06069. [Online]. Available: https://arxiv.org/abs/2006.06069"
   ]
  }
 ],
 "metadata": {
  "kernelspec": {
   "display_name": "Python 3 (ipykernel)",
   "language": "python",
   "name": "python3"
  },
  "language_info": {
   "codemirror_mode": {
    "name": "ipython",
    "version": 3
   },
   "file_extension": ".py",
   "mimetype": "text/x-python",
   "name": "python",
   "nbconvert_exporter": "python",
   "pygments_lexer": "ipython3",
   "version": "3.10.11"
  }
 },
 "nbformat": 4,
 "nbformat_minor": 5
}
